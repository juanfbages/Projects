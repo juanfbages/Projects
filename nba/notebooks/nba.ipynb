{
 "cells": [
  {
   "cell_type": "code",
   "execution_count": 1,
   "metadata": {
    "collapsed": false
   },
   "outputs": [],
   "source": [
    "%matplotlib inline\n",
    "\n",
    "import pandas as pd\n",
    "import seaborn; seaborn.set()\n",
    "from nba import getData"
   ]
  },
  {
   "cell_type": "markdown",
   "metadata": {},
   "source": [
    "## Read-in Data"
   ]
  },
  {
   "cell_type": "code",
   "execution_count": 2,
   "metadata": {
    "collapsed": false
   },
   "outputs": [
    {
     "data": {
      "text/plain": [
       "'\\ndata = getData()\\nheaders = data.pop(0)\\nstats = pd.DataFrame(data, columns = headers)\\n'"
      ]
     },
     "execution_count": 2,
     "metadata": {},
     "output_type": "execute_result"
    }
   ],
   "source": [
    "# If loading from memory\n",
    "stats = pd.read_csv('../data/stats.csv.csv', header = 0)\n",
    "\n",
    "# If loading from API Call\n",
    "'''\n",
    "data = getData()\n",
    "headers = data.pop(0)\n",
    "stats = pd.DataFrame(data, columns = headers)\n",
    "'''"
   ]
  },
  {
   "cell_type": "markdown",
   "metadata": {},
   "source": [
    "## Data Structure and Description"
   ]
  },
  {
   "cell_type": "code",
   "execution_count": 3,
   "metadata": {
    "collapsed": false
   },
   "outputs": [
    {
     "data": {
      "text/html": [
       "<div>\n",
       "<table border=\"1\" class=\"dataframe\">\n",
       "  <thead>\n",
       "    <tr style=\"text-align: right;\">\n",
       "      <th></th>\n",
       "      <th>TEAM_ID</th>\n",
       "      <th>TEAM_NAME</th>\n",
       "      <th>GP</th>\n",
       "      <th>W</th>\n",
       "      <th>L</th>\n",
       "      <th>W_PCT</th>\n",
       "      <th>MIN</th>\n",
       "      <th>FGM</th>\n",
       "      <th>FGA</th>\n",
       "      <th>FG_PCT</th>\n",
       "      <th>...</th>\n",
       "      <th>TOV</th>\n",
       "      <th>STL</th>\n",
       "      <th>BLK</th>\n",
       "      <th>BLKA</th>\n",
       "      <th>PF</th>\n",
       "      <th>PFD</th>\n",
       "      <th>PTS</th>\n",
       "      <th>PLUS_MINUS</th>\n",
       "      <th>CFID</th>\n",
       "      <th>CFPARAMS</th>\n",
       "    </tr>\n",
       "  </thead>\n",
       "  <tbody>\n",
       "    <tr>\n",
       "      <th>0</th>\n",
       "      <td>1610612737</td>\n",
       "      <td>Atlanta Hawks</td>\n",
       "      <td>82</td>\n",
       "      <td>60</td>\n",
       "      <td>22</td>\n",
       "      <td>0.732</td>\n",
       "      <td>48.1</td>\n",
       "      <td>38.1</td>\n",
       "      <td>81.7</td>\n",
       "      <td>0.466</td>\n",
       "      <td>...</td>\n",
       "      <td>14.2</td>\n",
       "      <td>9.1</td>\n",
       "      <td>4.6</td>\n",
       "      <td>4.9</td>\n",
       "      <td>17.8</td>\n",
       "      <td>19.6</td>\n",
       "      <td>102.5</td>\n",
       "      <td>5.4</td>\n",
       "      <td>10</td>\n",
       "      <td>Atlanta Hawks</td>\n",
       "    </tr>\n",
       "    <tr>\n",
       "      <th>1</th>\n",
       "      <td>1610612738</td>\n",
       "      <td>Boston Celtics</td>\n",
       "      <td>82</td>\n",
       "      <td>40</td>\n",
       "      <td>42</td>\n",
       "      <td>0.488</td>\n",
       "      <td>48.5</td>\n",
       "      <td>38.9</td>\n",
       "      <td>87.9</td>\n",
       "      <td>0.443</td>\n",
       "      <td>...</td>\n",
       "      <td>13.8</td>\n",
       "      <td>8.2</td>\n",
       "      <td>3.6</td>\n",
       "      <td>5.3</td>\n",
       "      <td>21.2</td>\n",
       "      <td>18.8</td>\n",
       "      <td>101.4</td>\n",
       "      <td>0.2</td>\n",
       "      <td>10</td>\n",
       "      <td>Boston Celtics</td>\n",
       "    </tr>\n",
       "    <tr>\n",
       "      <th>2</th>\n",
       "      <td>1610612751</td>\n",
       "      <td>Brooklyn Nets</td>\n",
       "      <td>82</td>\n",
       "      <td>38</td>\n",
       "      <td>44</td>\n",
       "      <td>0.463</td>\n",
       "      <td>48.6</td>\n",
       "      <td>37.4</td>\n",
       "      <td>83.0</td>\n",
       "      <td>0.451</td>\n",
       "      <td>...</td>\n",
       "      <td>13.8</td>\n",
       "      <td>7.0</td>\n",
       "      <td>4.1</td>\n",
       "      <td>4.5</td>\n",
       "      <td>19.3</td>\n",
       "      <td>20.0</td>\n",
       "      <td>98.0</td>\n",
       "      <td>-2.9</td>\n",
       "      <td>10</td>\n",
       "      <td>Brooklyn Nets</td>\n",
       "    </tr>\n",
       "    <tr>\n",
       "      <th>3</th>\n",
       "      <td>1610612766</td>\n",
       "      <td>Charlotte Hornets</td>\n",
       "      <td>82</td>\n",
       "      <td>33</td>\n",
       "      <td>49</td>\n",
       "      <td>0.402</td>\n",
       "      <td>48.5</td>\n",
       "      <td>35.5</td>\n",
       "      <td>84.5</td>\n",
       "      <td>0.420</td>\n",
       "      <td>...</td>\n",
       "      <td>11.9</td>\n",
       "      <td>6.1</td>\n",
       "      <td>5.5</td>\n",
       "      <td>5.4</td>\n",
       "      <td>18.2</td>\n",
       "      <td>20.8</td>\n",
       "      <td>94.2</td>\n",
       "      <td>-3.2</td>\n",
       "      <td>10</td>\n",
       "      <td>Charlotte Hornets</td>\n",
       "    </tr>\n",
       "    <tr>\n",
       "      <th>4</th>\n",
       "      <td>1610612741</td>\n",
       "      <td>Chicago Bulls</td>\n",
       "      <td>82</td>\n",
       "      <td>50</td>\n",
       "      <td>32</td>\n",
       "      <td>0.610</td>\n",
       "      <td>48.5</td>\n",
       "      <td>36.6</td>\n",
       "      <td>82.9</td>\n",
       "      <td>0.442</td>\n",
       "      <td>...</td>\n",
       "      <td>14.0</td>\n",
       "      <td>6.3</td>\n",
       "      <td>5.8</td>\n",
       "      <td>5.4</td>\n",
       "      <td>18.2</td>\n",
       "      <td>21.2</td>\n",
       "      <td>100.8</td>\n",
       "      <td>3.0</td>\n",
       "      <td>10</td>\n",
       "      <td>Chicago Bulls</td>\n",
       "    </tr>\n",
       "  </tbody>\n",
       "</table>\n",
       "<p>5 rows × 30 columns</p>\n",
       "</div>"
      ],
      "text/plain": [
       "      TEAM_ID          TEAM_NAME  GP   W   L  W_PCT   MIN   FGM   FGA  FG_PCT  \\\n",
       "0  1610612737      Atlanta Hawks  82  60  22  0.732  48.1  38.1  81.7   0.466   \n",
       "1  1610612738     Boston Celtics  82  40  42  0.488  48.5  38.9  87.9   0.443   \n",
       "2  1610612751      Brooklyn Nets  82  38  44  0.463  48.6  37.4  83.0   0.451   \n",
       "3  1610612766  Charlotte Hornets  82  33  49  0.402  48.5  35.5  84.5   0.420   \n",
       "4  1610612741      Chicago Bulls  82  50  32  0.610  48.5  36.6  82.9   0.442   \n",
       "\n",
       "         ...           TOV  STL  BLK  BLKA    PF   PFD    PTS  PLUS_MINUS  \\\n",
       "0        ...          14.2  9.1  4.6   4.9  17.8  19.6  102.5         5.4   \n",
       "1        ...          13.8  8.2  3.6   5.3  21.2  18.8  101.4         0.2   \n",
       "2        ...          13.8  7.0  4.1   4.5  19.3  20.0   98.0        -2.9   \n",
       "3        ...          11.9  6.1  5.5   5.4  18.2  20.8   94.2        -3.2   \n",
       "4        ...          14.0  6.3  5.8   5.4  18.2  21.2  100.8         3.0   \n",
       "\n",
       "   CFID           CFPARAMS  \n",
       "0    10      Atlanta Hawks  \n",
       "1    10     Boston Celtics  \n",
       "2    10      Brooklyn Nets  \n",
       "3    10  Charlotte Hornets  \n",
       "4    10      Chicago Bulls  \n",
       "\n",
       "[5 rows x 30 columns]"
      ]
     },
     "execution_count": 3,
     "metadata": {},
     "output_type": "execute_result"
    }
   ],
   "source": [
    "stats.head()"
   ]
  },
  {
   "cell_type": "code",
   "execution_count": 4,
   "metadata": {
    "collapsed": false
   },
   "outputs": [
    {
     "name": "stdout",
     "output_type": "stream",
     "text": [
      "<class 'pandas.core.frame.DataFrame'>\n",
      "Int64Index: 30 entries, 0 to 29\n",
      "Data columns (total 30 columns):\n",
      "TEAM_ID       30 non-null int64\n",
      "TEAM_NAME     30 non-null object\n",
      "GP            30 non-null int64\n",
      "W             30 non-null int64\n",
      "L             30 non-null int64\n",
      "W_PCT         30 non-null float64\n",
      "MIN           30 non-null float64\n",
      "FGM           30 non-null float64\n",
      "FGA           30 non-null float64\n",
      "FG_PCT        30 non-null float64\n",
      "FG3M          30 non-null float64\n",
      "FG3A          30 non-null float64\n",
      "FG3_PCT       30 non-null float64\n",
      "FTM           30 non-null float64\n",
      "FTA           30 non-null float64\n",
      "FT_PCT        30 non-null float64\n",
      "OREB          30 non-null float64\n",
      "DREB          30 non-null float64\n",
      "REB           30 non-null float64\n",
      "AST           30 non-null float64\n",
      "TOV           30 non-null float64\n",
      "STL           30 non-null float64\n",
      "BLK           30 non-null float64\n",
      "BLKA          30 non-null float64\n",
      "PF            30 non-null float64\n",
      "PFD           30 non-null float64\n",
      "PTS           30 non-null float64\n",
      "PLUS_MINUS    30 non-null float64\n",
      "CFID          30 non-null int64\n",
      "CFPARAMS      30 non-null object\n",
      "dtypes: float64(23), int64(5), object(2)\n",
      "memory usage: 7.3+ KB\n"
     ]
    }
   ],
   "source": [
    "stats.info()"
   ]
  },
  {
   "cell_type": "code",
   "execution_count": 5,
   "metadata": {
    "collapsed": false
   },
   "outputs": [
    {
     "data": {
      "text/html": [
       "<div>\n",
       "<table border=\"1\" class=\"dataframe\">\n",
       "  <thead>\n",
       "    <tr style=\"text-align: right;\">\n",
       "      <th></th>\n",
       "      <th>TEAM_ID</th>\n",
       "      <th>GP</th>\n",
       "      <th>W</th>\n",
       "      <th>L</th>\n",
       "      <th>W_PCT</th>\n",
       "      <th>MIN</th>\n",
       "      <th>FGM</th>\n",
       "      <th>FGA</th>\n",
       "      <th>FG_PCT</th>\n",
       "      <th>FG3M</th>\n",
       "      <th>...</th>\n",
       "      <th>AST</th>\n",
       "      <th>TOV</th>\n",
       "      <th>STL</th>\n",
       "      <th>BLK</th>\n",
       "      <th>BLKA</th>\n",
       "      <th>PF</th>\n",
       "      <th>PFD</th>\n",
       "      <th>PTS</th>\n",
       "      <th>PLUS_MINUS</th>\n",
       "      <th>CFID</th>\n",
       "    </tr>\n",
       "  </thead>\n",
       "  <tbody>\n",
       "    <tr>\n",
       "      <th>count</th>\n",
       "      <td>3.000000e+01</td>\n",
       "      <td>30</td>\n",
       "      <td>30.000000</td>\n",
       "      <td>30.000000</td>\n",
       "      <td>30.000000</td>\n",
       "      <td>30.000000</td>\n",
       "      <td>30.000000</td>\n",
       "      <td>30.000000</td>\n",
       "      <td>30.000000</td>\n",
       "      <td>30.000000</td>\n",
       "      <td>...</td>\n",
       "      <td>30.000000</td>\n",
       "      <td>30.000000</td>\n",
       "      <td>30.000000</td>\n",
       "      <td>30.000000</td>\n",
       "      <td>30.000000</td>\n",
       "      <td>30.000000</td>\n",
       "      <td>30.000000</td>\n",
       "      <td>30.000000</td>\n",
       "      <td>3.000000e+01</td>\n",
       "      <td>30</td>\n",
       "    </tr>\n",
       "    <tr>\n",
       "      <th>mean</th>\n",
       "      <td>1.610613e+09</td>\n",
       "      <td>82</td>\n",
       "      <td>41.000000</td>\n",
       "      <td>41.000000</td>\n",
       "      <td>0.500033</td>\n",
       "      <td>48.383333</td>\n",
       "      <td>37.516667</td>\n",
       "      <td>83.563333</td>\n",
       "      <td>0.449000</td>\n",
       "      <td>7.850000</td>\n",
       "      <td>...</td>\n",
       "      <td>22.023333</td>\n",
       "      <td>14.353333</td>\n",
       "      <td>7.730000</td>\n",
       "      <td>4.793333</td>\n",
       "      <td>4.796667</td>\n",
       "      <td>20.220000</td>\n",
       "      <td>20.210000</td>\n",
       "      <td>100.016667</td>\n",
       "      <td>-2.664535e-16</td>\n",
       "      <td>10</td>\n",
       "    </tr>\n",
       "    <tr>\n",
       "      <th>std</th>\n",
       "      <td>8.803408e+00</td>\n",
       "      <td>0</td>\n",
       "      <td>13.454906</td>\n",
       "      <td>13.454906</td>\n",
       "      <td>0.164142</td>\n",
       "      <td>0.182101</td>\n",
       "      <td>1.597646</td>\n",
       "      <td>2.377116</td>\n",
       "      <td>0.015483</td>\n",
       "      <td>1.651488</td>\n",
       "      <td>...</td>\n",
       "      <td>1.858194</td>\n",
       "      <td>1.303770</td>\n",
       "      <td>1.006239</td>\n",
       "      <td>0.702181</td>\n",
       "      <td>0.744860</td>\n",
       "      <td>1.440881</td>\n",
       "      <td>1.213246</td>\n",
       "      <td>4.275760</td>\n",
       "      <td>4.853012e+00</td>\n",
       "      <td>0</td>\n",
       "    </tr>\n",
       "    <tr>\n",
       "      <th>min</th>\n",
       "      <td>1.610613e+09</td>\n",
       "      <td>82</td>\n",
       "      <td>16.000000</td>\n",
       "      <td>15.000000</td>\n",
       "      <td>0.195000</td>\n",
       "      <td>48.100000</td>\n",
       "      <td>33.700000</td>\n",
       "      <td>77.200000</td>\n",
       "      <td>0.408000</td>\n",
       "      <td>5.000000</td>\n",
       "      <td>...</td>\n",
       "      <td>19.800000</td>\n",
       "      <td>11.900000</td>\n",
       "      <td>6.100000</td>\n",
       "      <td>3.600000</td>\n",
       "      <td>3.000000</td>\n",
       "      <td>17.800000</td>\n",
       "      <td>17.900000</td>\n",
       "      <td>91.900000</td>\n",
       "      <td>-9.300000e+00</td>\n",
       "      <td>10</td>\n",
       "    </tr>\n",
       "    <tr>\n",
       "      <th>25%</th>\n",
       "      <td>1.610613e+09</td>\n",
       "      <td>82</td>\n",
       "      <td>32.250000</td>\n",
       "      <td>31.250000</td>\n",
       "      <td>0.393000</td>\n",
       "      <td>48.225000</td>\n",
       "      <td>36.625000</td>\n",
       "      <td>82.525000</td>\n",
       "      <td>0.439750</td>\n",
       "      <td>6.650000</td>\n",
       "      <td>...</td>\n",
       "      <td>20.625000</td>\n",
       "      <td>13.450000</td>\n",
       "      <td>7.000000</td>\n",
       "      <td>4.425000</td>\n",
       "      <td>4.400000</td>\n",
       "      <td>19.100000</td>\n",
       "      <td>19.450000</td>\n",
       "      <td>97.800000</td>\n",
       "      <td>-3.125000e+00</td>\n",
       "      <td>10</td>\n",
       "    </tr>\n",
       "    <tr>\n",
       "      <th>50%</th>\n",
       "      <td>1.610613e+09</td>\n",
       "      <td>82</td>\n",
       "      <td>40.500000</td>\n",
       "      <td>41.500000</td>\n",
       "      <td>0.494000</td>\n",
       "      <td>48.400000</td>\n",
       "      <td>37.650000</td>\n",
       "      <td>83.200000</td>\n",
       "      <td>0.451500</td>\n",
       "      <td>7.800000</td>\n",
       "      <td>...</td>\n",
       "      <td>21.650000</td>\n",
       "      <td>14.200000</td>\n",
       "      <td>7.700000</td>\n",
       "      <td>4.600000</td>\n",
       "      <td>4.800000</td>\n",
       "      <td>20.350000</td>\n",
       "      <td>20.250000</td>\n",
       "      <td>100.100000</td>\n",
       "      <td>3.500000e-01</td>\n",
       "      <td>10</td>\n",
       "    </tr>\n",
       "    <tr>\n",
       "      <th>75%</th>\n",
       "      <td>1.610613e+09</td>\n",
       "      <td>82</td>\n",
       "      <td>50.750000</td>\n",
       "      <td>49.750000</td>\n",
       "      <td>0.619000</td>\n",
       "      <td>48.500000</td>\n",
       "      <td>38.600000</td>\n",
       "      <td>85.750000</td>\n",
       "      <td>0.458000</td>\n",
       "      <td>8.825000</td>\n",
       "      <td>...</td>\n",
       "      <td>22.425000</td>\n",
       "      <td>14.975000</td>\n",
       "      <td>8.175000</td>\n",
       "      <td>5.300000</td>\n",
       "      <td>5.375000</td>\n",
       "      <td>21.275000</td>\n",
       "      <td>20.875000</td>\n",
       "      <td>103.025000</td>\n",
       "      <td>3.175000e+00</td>\n",
       "      <td>10</td>\n",
       "    </tr>\n",
       "    <tr>\n",
       "      <th>max</th>\n",
       "      <td>1.610613e+09</td>\n",
       "      <td>82</td>\n",
       "      <td>67.000000</td>\n",
       "      <td>66.000000</td>\n",
       "      <td>0.817000</td>\n",
       "      <td>48.700000</td>\n",
       "      <td>41.600000</td>\n",
       "      <td>87.900000</td>\n",
       "      <td>0.478000</td>\n",
       "      <td>11.400000</td>\n",
       "      <td>...</td>\n",
       "      <td>27.400000</td>\n",
       "      <td>17.700000</td>\n",
       "      <td>9.600000</td>\n",
       "      <td>6.200000</td>\n",
       "      <td>6.200000</td>\n",
       "      <td>23.000000</td>\n",
       "      <td>23.900000</td>\n",
       "      <td>110.000000</td>\n",
       "      <td>1.010000e+01</td>\n",
       "      <td>10</td>\n",
       "    </tr>\n",
       "  </tbody>\n",
       "</table>\n",
       "<p>8 rows × 28 columns</p>\n",
       "</div>"
      ],
      "text/plain": [
       "            TEAM_ID  GP          W          L      W_PCT        MIN  \\\n",
       "count  3.000000e+01  30  30.000000  30.000000  30.000000  30.000000   \n",
       "mean   1.610613e+09  82  41.000000  41.000000   0.500033  48.383333   \n",
       "std    8.803408e+00   0  13.454906  13.454906   0.164142   0.182101   \n",
       "min    1.610613e+09  82  16.000000  15.000000   0.195000  48.100000   \n",
       "25%    1.610613e+09  82  32.250000  31.250000   0.393000  48.225000   \n",
       "50%    1.610613e+09  82  40.500000  41.500000   0.494000  48.400000   \n",
       "75%    1.610613e+09  82  50.750000  49.750000   0.619000  48.500000   \n",
       "max    1.610613e+09  82  67.000000  66.000000   0.817000  48.700000   \n",
       "\n",
       "             FGM        FGA     FG_PCT       FG3M  ...         AST        TOV  \\\n",
       "count  30.000000  30.000000  30.000000  30.000000  ...   30.000000  30.000000   \n",
       "mean   37.516667  83.563333   0.449000   7.850000  ...   22.023333  14.353333   \n",
       "std     1.597646   2.377116   0.015483   1.651488  ...    1.858194   1.303770   \n",
       "min    33.700000  77.200000   0.408000   5.000000  ...   19.800000  11.900000   \n",
       "25%    36.625000  82.525000   0.439750   6.650000  ...   20.625000  13.450000   \n",
       "50%    37.650000  83.200000   0.451500   7.800000  ...   21.650000  14.200000   \n",
       "75%    38.600000  85.750000   0.458000   8.825000  ...   22.425000  14.975000   \n",
       "max    41.600000  87.900000   0.478000  11.400000  ...   27.400000  17.700000   \n",
       "\n",
       "             STL        BLK       BLKA         PF        PFD         PTS  \\\n",
       "count  30.000000  30.000000  30.000000  30.000000  30.000000   30.000000   \n",
       "mean    7.730000   4.793333   4.796667  20.220000  20.210000  100.016667   \n",
       "std     1.006239   0.702181   0.744860   1.440881   1.213246    4.275760   \n",
       "min     6.100000   3.600000   3.000000  17.800000  17.900000   91.900000   \n",
       "25%     7.000000   4.425000   4.400000  19.100000  19.450000   97.800000   \n",
       "50%     7.700000   4.600000   4.800000  20.350000  20.250000  100.100000   \n",
       "75%     8.175000   5.300000   5.375000  21.275000  20.875000  103.025000   \n",
       "max     9.600000   6.200000   6.200000  23.000000  23.900000  110.000000   \n",
       "\n",
       "         PLUS_MINUS  CFID  \n",
       "count  3.000000e+01    30  \n",
       "mean  -2.664535e-16    10  \n",
       "std    4.853012e+00     0  \n",
       "min   -9.300000e+00    10  \n",
       "25%   -3.125000e+00    10  \n",
       "50%    3.500000e-01    10  \n",
       "75%    3.175000e+00    10  \n",
       "max    1.010000e+01    10  \n",
       "\n",
       "[8 rows x 28 columns]"
      ]
     },
     "execution_count": 5,
     "metadata": {},
     "output_type": "execute_result"
    }
   ],
   "source": [
    "stats.describe()"
   ]
  },
  {
   "cell_type": "markdown",
   "metadata": {},
   "source": [
    "## Data Cleaning"
   ]
  },
  {
   "cell_type": "markdown",
   "metadata": {},
   "source": [
    "We want to remove Team ID, CFID, and CFPARAMS from our data."
   ]
  },
  {
   "cell_type": "code",
   "execution_count": 6,
   "metadata": {
    "collapsed": false
   },
   "outputs": [],
   "source": [
    "stats.drop(['TEAM_ID', 'CFID', 'CFPARAMS'], axis = 1, inplace = True)"
   ]
  },
  {
   "cell_type": "markdown",
   "metadata": {},
   "source": [
    "The following is a dictionary with the description of each variable"
   ]
  },
  {
   "cell_type": "code",
   "execution_count": 7,
   "metadata": {
    "collapsed": true
   },
   "outputs": [],
   "source": [
    "variable_description = {'GP': 'Games Played',\n",
    "                        'W': 'Wins',\n",
    "                        'L': 'Loses',\n",
    "                        'W_PCT': 'Winning %'}"
   ]
  },
  {
   "cell_type": "markdown",
   "metadata": {},
   "source": [
    "## Exploratory Data Analysis"
   ]
  },
  {
   "cell_type": "code",
   "execution_count": 11,
   "metadata": {
    "collapsed": false
   },
   "outputs": [
    {
     "data": {
      "text/plain": [
       "<matplotlib.text.Text at 0x109c37a50>"
      ]
     },
     "execution_count": 11,
     "metadata": {},
     "output_type": "execute_result"
    },
    {
     "data": {
      "image/png": "[encoded data removed]",
      "text/plain": [
       "<matplotlib.figure.Figure at 0x109d315d0>"
      ]
     },
     "metadata": {},
     "output_type": "display_data"
    }
   ],
   "source": [
    "import numpy as np\n",
    "import matplotlib.pyplot as plt\n",
    "\n",
    "plt.scatter(stats.FTA, stats.W)\n",
    "plt.xlabel('Free Throws Attempted (per game)')\n",
    "plt.ylabel('Wins')"
   ]
  },
  {
   "cell_type": "code",
   "execution_count": 12,
   "metadata": {
    "collapsed": false
   },
   "outputs": [
    {
     "data": {
      "text/plain": [
       "<matplotlib.text.Text at 0x109f9eb90>"
      ]
     },
     "execution_count": 12,
     "metadata": {},
     "output_type": "execute_result"
    },
    {
     "data": {
      "image/png": "[encoded data removed]",
      "text/plain": [
       "<matplotlib.figure.Figure at 0x109fd0190>"
      ]
     },
     "metadata": {},
     "output_type": "display_data"
    }
   ],
   "source": [
    "plt.scatter(stats.BLKA, stats.W)\n",
    "plt.xlabel('Blocks Attempted (per game)')\n",
    "plt.ylabel('Wins')"
   ]
  },
  {
   "cell_type": "code",
   "execution_count": 13,
   "metadata": {
    "collapsed": false
   },
   "outputs": [
    {
     "data": {
      "text/plain": [
       "<matplotlib.text.Text at 0x109fbe810>"
      ]
     },
     "execution_count": 13,
     "metadata": {},
     "output_type": "execute_result"
    },
    {
     "data": {
      "image/png": "[encoded data removed]",
      "text/plain": [
       "<matplotlib.figure.Figure at 0x10a23e590>"
      ]
     },
     "metadata": {},
     "output_type": "display_data"
    }
   ],
   "source": [
    "plt.scatter(stats.PFD, stats.W)\n",
    "plt.xlabel('Personal Fouls Drawn (per game)')\n",
    "plt.ylabel('Wins')"
   ]
  },
  {
   "cell_type": "markdown",
   "metadata": {},
   "source": [
    "We initially take a look at just the basic metrics. We focus on metrics that are not indicative of performance, but rather style. Thus, for now, let's consider FGA, FG3A, FTA, AST, STL, BLKA, and PFD. "
   ]
  },
  {
   "cell_type": "markdown",
   "metadata": {
    "collapsed": true
   },
   "source": [
    "## Dimensionality Reduction"
   ]
  },
  {
   "cell_type": "code",
   "execution_count": 14,
   "metadata": {
    "collapsed": false
   },
   "outputs": [],
   "source": [
    "metrics = ['FGA', 'FG3A', 'FTA', 'AST', 'STL', 'BLKA','PFD']\n",
    "X = stats[metrics].values"
   ]
  },
  {
   "cell_type": "code",
   "execution_count": 15,
   "metadata": {
    "collapsed": false
   },
   "outputs": [
    {
     "name": "stdout",
     "output_type": "stream",
     "text": [
      "(30, 7)\n",
      "(30, 2)\n"
     ]
    }
   ],
   "source": [
    "from sklearn.decomposition import PCA\n",
    "\n",
    "pca = PCA(n_components = 2)\n",
    "Xproj = pca.fit_transform(X)\n",
    "print(X.shape)\n",
    "print(Xproj.shape)"
   ]
  },
  {
   "cell_type": "code",
   "execution_count": 16,
   "metadata": {
    "collapsed": false
   },
   "outputs": [
    {
     "data": {
      "text/plain": [
       "<matplotlib.collections.PathCollection at 0x10b1c1910>"
      ]
     },
     "execution_count": 16,
     "metadata": {},
     "output_type": "execute_result"
    },
    {
     "data": {
      "image/png": "[encoded data removed]",
      "text/plain": [
       "<matplotlib.figure.Figure at 0x10a418950>"
      ]
     },
     "metadata": {},
     "output_type": "display_data"
    }
   ],
   "source": [
    "plt.scatter(Xproj[:, 0], Xproj[:, 1])"
   ]
  },
  {
   "cell_type": "code",
   "execution_count": 17,
   "metadata": {
    "collapsed": false
   },
   "outputs": [
    {
     "data": {
      "text/plain": [
       "array([ 0.55529489,  0.20687484])"
      ]
     },
     "execution_count": 17,
     "metadata": {},
     "output_type": "execute_result"
    }
   ],
   "source": [
    "pca.explained_variance_ratio_"
   ]
  },
  {
   "cell_type": "markdown",
   "metadata": {},
   "source": [
    "## K-Means"
   ]
  },
  {
   "cell_type": "code",
   "execution_count": 27,
   "metadata": {
    "collapsed": false
   },
   "outputs": [
    {
     "data": {
      "text/plain": [
       "<matplotlib.collections.PathCollection at 0x10c9bddd0>"
      ]
     },
     "execution_count": 27,
     "metadata": {},
     "output_type": "execute_result"
    },
    {
     "data": {
      "image/png": "[encoded data removed]",
      "text/plain": [
       "<matplotlib.figure.Figure at 0x10c41c110>"
      ]
     },
     "metadata": {},
     "output_type": "display_data"
    }
   ],
   "source": [
    "from sklearn.cluster import KMeans\n",
    "kmeans = KMeans(5, random_state= 5)\n",
    "kmeans.fit(X)\n",
    "y_kmeans = kmeans.predict(X)\n",
    "plt.scatter(Xproj[:, 0], Xproj[:, 1], c = y_kmeans, cmap = 'rainbow', s = 50)"
   ]
  },
  {
   "cell_type": "code",
   "execution_count": 28,
   "metadata": {
    "collapsed": false
   },
   "outputs": [
    {
     "data": {
      "text/plain": [
       "[('Atlanta Hawks', 1),\n",
       " ('Boston Celtics', 2),\n",
       " ('Brooklyn Nets', 0),\n",
       " ('Charlotte Hornets', 0),\n",
       " ('Chicago Bulls', 1),\n",
       " ('Cleveland Cavaliers', 1),\n",
       " ('Dallas Mavericks', 1),\n",
       " ('Denver Nuggets', 1),\n",
       " ('Detroit Pistons', 1),\n",
       " ('Golden State Warriors', 2),\n",
       " ('Houston Rockets', 4),\n",
       " ('Indiana Pacers', 0),\n",
       " ('Los Angeles Clippers', 1),\n",
       " ('Los Angeles Lakers', 0),\n",
       " ('Memphis Grizzlies', 0),\n",
       " ('Miami Heat', 0),\n",
       " ('Milwaukee Bucks', 0),\n",
       " ('Minnesota Timberwolves', 3),\n",
       " ('New Orleans Pelicans', 0),\n",
       " ('New York Knicks', 0),\n",
       " ('Oklahoma City Thunder', 1),\n",
       " ('Orlando Magic', 0),\n",
       " ('Philadelphia 76ers', 1),\n",
       " ('Phoenix Suns', 1),\n",
       " ('Portland Trail Blazers', 2),\n",
       " ('Sacramento Kings', 3),\n",
       " ('San Antonio Spurs', 1),\n",
       " ('Toronto Raptors', 1),\n",
       " ('Utah Jazz', 0),\n",
       " ('Washington Wizards', 0)]"
      ]
     },
     "execution_count": 28,
     "metadata": {},
     "output_type": "execute_result"
    }
   ],
   "source": [
    "zip(stats.TEAM_NAME, y_kmeans)"
   ]
  },
  {
   "cell_type": "markdown",
   "metadata": {},
   "source": [
    "## Decision Tree"
   ]
  },
  {
   "cell_type": "code",
   "execution_count": 29,
   "metadata": {
    "collapsed": false
   },
   "outputs": [
    {
     "data": {
      "text/plain": [
       "DecisionTreeClassifier(class_weight=None, criterion='gini', max_depth=None,\n",
       "            max_features=None, max_leaf_nodes=None, min_samples_leaf=1,\n",
       "            min_samples_split=2, min_weight_fraction_leaf=0.0,\n",
       "            random_state=None, splitter='best')"
      ]
     },
     "execution_count": 29,
     "metadata": {},
     "output_type": "execute_result"
    }
   ],
   "source": [
    "from sklearn import tree\n",
    "\n",
    "clf = tree.DecisionTreeClassifier()\n",
    "clf.fit(X, y_kmeans)"
   ]
  },
  {
   "cell_type": "code",
   "execution_count": 32,
   "metadata": {
    "collapsed": false
   },
   "outputs": [
    {
     "data": {
      "image/png": "[encoded data removed]",
      "text/plain": [
       "<IPython.core.display.Image object>"
      ]
     },
     "execution_count": 32,
     "metadata": {},
     "output_type": "execute_result"
    }
   ],
   "source": [
    "from sklearn.externals.six import StringIO\n",
    "from IPython.display import Image\n",
    "import pydot\n",
    "\n",
    "dot_data = StringIO()\n",
    "tree.export_graphviz(clf, out_file = dot_data,\n",
    "                     feature_names = metrics)\n",
    "graph = pydot.graph_from_dot_data(dot_data.getvalue())\n",
    "Image(graph.create_png())  "
   ]
  }
 ],
 "metadata": {
  "kernelspec": {
   "display_name": "Python 2",
   "language": "python",
   "name": "python2"
  },
  "language_info": {
   "codemirror_mode": {
    "name": "ipython",
    "version": 2
   },
   "file_extension": ".py",
   "mimetype": "text/x-python",
   "name": "python",
   "nbconvert_exporter": "python",
   "pygments_lexer": "ipython2",
   "version": "2.7.10"
  }
 },
 "nbformat": 4,
 "nbformat_minor": 0
}
