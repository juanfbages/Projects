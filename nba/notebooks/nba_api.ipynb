{
 "cells": [
  {
   "cell_type": "markdown",
   "metadata": {},
   "source": [
    "## Import Required Libraries"
   ]
  },
  {
   "cell_type": "code",
   "execution_count": 1,
   "metadata": {
    "collapsed": true
   },
   "outputs": [],
   "source": [
    "import requests\n",
    "import csv"
   ]
  },
  {
   "cell_type": "markdown",
   "metadata": {},
   "source": [
    "## Connect to the API"
   ]
  },
  {
   "cell_type": "code",
   "execution_count": 2,
   "metadata": {
    "collapsed": true
   },
   "outputs": [],
   "source": [
    "url = 'http://stats.nba.com/stats/leaguedashteamstats?' + \\\n",
    "      'Conference=&' + \\\n",
    "      'DateFrom=&' + \\\n",
    "      'DateTo=&' + \\\n",
    "      'Division=&' + \\\n",
    "      'GameScope=&' + \\\n",
    "      'GameSegment=&' + \\\n",
    "      'LastNGames=0&' + \\\n",
    "      'LeagueID=00&' + \\\n",
    "      'Location=&' + \\\n",
    "      'MeasureType=Base&' + \\\n",
    "      'Month=0&' + \\\n",
    "      'OpponentTeamID=0&' + \\\n",
    "      'Outcome=&' + \\\n",
    "      'PORound=0&' + \\\n",
    "      'PaceAdjust=N&' + \\\n",
    "      'PerMode=PerGame&' + \\\n",
    "      'Period=0&' + \\\n",
    "      'PlayerExperience=&' + \\\n",
    "      'PlayerPosition=&' + \\\n",
    "      'PlusMinus=N&' + \\\n",
    "      'Rank=N&' + \\\n",
    "      'Season=2014-15&' + \\\n",
    "      'SeasonSegment=&' + \\\n",
    "      'SeasonType=Regular+Season&' + \\\n",
    "      'ShotClockRange=&' + \\\n",
    "      'StarterBench=&' + \\\n",
    "      'TeamID=0&' + \\\n",
    "      'VsConference=&' + \\\n",
    "      'VsDivision='"
   ]
  },
  {
   "cell_type": "code",
   "execution_count": 3,
   "metadata": {
    "collapsed": true
   },
   "outputs": [],
   "source": [
    "response = requests.get(url)"
   ]
  },
  {
   "cell_type": "code",
   "execution_count": 4,
   "metadata": {
    "collapsed": false
   },
   "outputs": [
    {
     "data": {
      "text/plain": [
       "[u'resource', u'resultSets', u'parameters']"
      ]
     },
     "execution_count": 4,
     "metadata": {},
     "output_type": "execute_result"
    }
   ],
   "source": [
    "response.json().keys()"
   ]
  },
  {
   "cell_type": "code",
   "execution_count": 21,
   "metadata": {
    "collapsed": false
   },
   "outputs": [
    {
     "data": {
      "text/plain": [
       "{u'Conference': None,\n",
       " u'DateFrom': None,\n",
       " u'DateTo': None,\n",
       " u'Division': None,\n",
       " u'GameScope': None,\n",
       " u'GameSegment': None,\n",
       " u'LastNGames': 0,\n",
       " u'LeagueID': u'00',\n",
       " u'Location': None,\n",
       " u'MeasureType': u'Base',\n",
       " u'Month': 0,\n",
       " u'OpponentTeamID': 0,\n",
       " u'Outcome': None,\n",
       " u'PORound': 0,\n",
       " u'PaceAdjust': u'N',\n",
       " u'PerMode': u'PerGame',\n",
       " u'Period': 0,\n",
       " u'PlayerExperience': None,\n",
       " u'PlayerPosition': None,\n",
       " u'PlusMinus': u'N',\n",
       " u'Rank': u'N',\n",
       " u'Season': u'2014-15',\n",
       " u'SeasonSegment': None,\n",
       " u'SeasonType': u'Regular Season',\n",
       " u'ShotClockRange': None,\n",
       " u'StarterBench': None,\n",
       " u'TeamID': 0,\n",
       " u'VsConference': None,\n",
       " u'VsDivision': None}"
      ]
     },
     "execution_count": 21,
     "metadata": {},
     "output_type": "execute_result"
    }
   ],
   "source": [
    "response.json()['parameters']"
   ]
  },
  {
   "cell_type": "markdown",
   "metadata": {},
   "source": [
    "## Parse API Response"
   ]
  },
  {
   "cell_type": "code",
   "execution_count": 5,
   "metadata": {
    "collapsed": true
   },
   "outputs": [],
   "source": [
    "results = response.json()['resultSets']"
   ]
  },
  {
   "cell_type": "code",
   "execution_count": 19,
   "metadata": {
    "collapsed": false
   },
   "outputs": [
    {
     "data": {
      "text/plain": [
       "[u'headers', u'rowSet', u'name']"
      ]
     },
     "execution_count": 19,
     "metadata": {},
     "output_type": "execute_result"
    }
   ],
   "source": [
    "results[0].keys()"
   ]
  },
  {
   "cell_type": "code",
   "execution_count": 11,
   "metadata": {
    "collapsed": false
   },
   "outputs": [],
   "source": [
    "headers = results[0]['headers']\n",
    "stats = results[0]['rowSet']\n",
    "stats.insert(0, headers)"
   ]
  },
  {
   "cell_type": "code",
   "execution_count": 18,
   "metadata": {
    "collapsed": false
   },
   "outputs": [],
   "source": [
    "with open(\"../data/regular_season.csv\", \"wb\") as f:\n",
    "    writer = csv.writer(f)\n",
    "    writer.writerows(stats)"
   ]
  }
 ],
 "metadata": {
  "kernelspec": {
   "display_name": "Python 2",
   "language": "python",
   "name": "python2"
  },
  "language_info": {
   "codemirror_mode": {
    "name": "ipython",
    "version": 2
   },
   "file_extension": ".py",
   "mimetype": "text/x-python",
   "name": "python",
   "nbconvert_exporter": "python",
   "pygments_lexer": "ipython2",
   "version": "2.7.10"
  }
 },
 "nbformat": 4,
 "nbformat_minor": 0
}
