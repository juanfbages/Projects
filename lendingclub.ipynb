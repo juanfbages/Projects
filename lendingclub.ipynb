{
 "cells": [
  {
   "cell_type": "code",
   "execution_count": 1,
   "metadata": {
    "collapsed": false
   },
   "outputs": [
    {
     "name": "stderr",
     "output_type": "stream",
     "text": [
      "/Users/juanfbages/anaconda/lib/python3.5/site-packages/matplotlib/__init__.py:872: UserWarning: axes.color_cycle is deprecated and replaced with axes.prop_cycle; please use the latter.\n",
      "  warnings.warn(self.msg_depr % (key, alt_key))\n"
     ]
    }
   ],
   "source": [
    "%matplotlib inline\n",
    "import matplotlib \n",
    "import matplotlib.pyplot as plt\n",
    "import seaborn as sns;sns.set(palette = 'muted', color_codes = True)\n",
    "\n",
    "import pandas as pd\n",
    "import numpy as np\n",
    "import glob"
   ]
  },
  {
   "cell_type": "markdown",
   "metadata": {},
   "source": [
    "# Functions"
   ]
  },
  {
   "cell_type": "code",
   "execution_count": 2,
   "metadata": {
    "collapsed": true
   },
   "outputs": [],
   "source": [
    "def charge_off_plot_qcut(df, col, q, labels = None, mean = True, legend_loc = 1, drop_new_col = False):\n",
    "    '''Returns charge-off rate plot for a set quantile split of a variable\n",
    "    in the dataframe.\n",
    "    \n",
    "    Args:\n",
    "        df: Dataframe with column to be split and a loan status column\n",
    "        col: Column in which to perform the quantile split\n",
    "        q: Number of quantiles (e.g. 10 breaks the range into deciles)\n",
    "        labels: A dictionary with keys title, xlabel, and ylabel\n",
    "        mean: Bool. Set to True if you want the mean charge-off line in the plot\n",
    "        legend_loc: Location of the plot's legend\n",
    "        \n",
    "    Returns:\n",
    "        ax: A plot of the charged-off rate by the specified column quantiles.\n",
    "    '''\n",
    "    \n",
    "    # Create Cut\n",
    "    new_col = col + '_qcut'\n",
    "    df[new_col] = pd.qcut(df[col], q = q)\n",
    "\n",
    "    # Create Charge-off frame\n",
    "    df_plot = (df.loc[df['loan_status'] == 'Charged Off', new_col]\n",
    "        .value_counts().sort_index()/df[new_col].value_counts().sort_index())\n",
    "\n",
    "    # Plot and add labels\n",
    "    ax = df_plot.plot(kind = 'bar', label = '')\n",
    "    if labels:\n",
    "        ax.set_title(labels['title'])\n",
    "        ax.set_xlabel(labels['xlabel'])\n",
    "        ax.set_ylabel(labels['ylabel'])\n",
    "\n",
    "    # Add Mean Charge-off Line\n",
    "    if mean:\n",
    "        mean_charge_off = df.loc[df['loan_status'] == 'Charged Off', :].shape[0]/df.shape[0]\n",
    "        ax.axhline(mean_charge_off, color = 'red', linestyle = 'dashed', alpha = 0.5, label = 'Mean')\n",
    "        \n",
    "    # Remove Variable\n",
    "    if drop_new_col:\n",
    "        df.drop(new_col, axis = 1, inplace = 1)\n",
    "    \n",
    "    # Add Legend and return Plot\n",
    "    ax.legend(loc = legend_loc)\n",
    "    return ax"
   ]
  },
  {
   "cell_type": "code",
   "execution_count": 3,
   "metadata": {
    "collapsed": false
   },
   "outputs": [],
   "source": [
    "def charge_off_plot_cut(df, col, bins, labels = None, mean = True, legend_loc = 1, drop_new_col = False):\n",
    "    '''Returns charge-off rate plot for a set quantile split of a variable\n",
    "    in the dataframe.\n",
    "    \n",
    "    Args:\n",
    "        df: Dataframe with column to be split and a loan status column\n",
    "        col: Column in which to perform the quantile split\n",
    "        q: Number of quantiles (e.g. 10 breaks the range into deciles)\n",
    "        labels: A dictionary with keys title, xlabel, and ylabel\n",
    "        mean: Bool. Set to True if you want the mean charge-off line in the plot\n",
    "        legend_loc: Location of the plot's legend\n",
    "        drop_new_col: Drop newly create cut variable from df. \n",
    "        \n",
    "    Returns:\n",
    "        ax: A plot of the charged-off rate by the specified column quantiles.\n",
    "        df[new_val]: if keep_col is set to True this variable is included in the new dataframe.\n",
    "    '''\n",
    "    \n",
    "    # Create Cut\n",
    "    new_col = col + '_cut'\n",
    "    df[new_col] = pd.cut(df[col], bins = bins)\n",
    "\n",
    "    # Create Charge-off frame\n",
    "    df_plot = (df.loc[df['loan_status'] == 'Charged Off', new_col]\n",
    "        .value_counts().sort_index()/df[new_col].value_counts().sort_index())\n",
    "\n",
    "    # Plot and add labels\n",
    "    ax = df_plot.plot(kind = 'bar', label = '')\n",
    "    if labels:\n",
    "        ax.set_title(labels['title'])\n",
    "        ax.set_xlabel(labels['xlabel'])\n",
    "        ax.set_ylabel(labels['ylabel'])\n",
    "\n",
    "    # Add Mean Charge-off Line\n",
    "    if mean:\n",
    "        mean_charge_off = df.loc[df['loan_status'] == 'Charged Off', :].shape[0]/df.shape[0]\n",
    "        ax.axhline(mean_charge_off, color = 'red', linestyle = 'dashed', alpha = 0.5, label = 'Mean')\n",
    "        \n",
    "    # Remove Variable\n",
    "    if drop_new_col:\n",
    "        df.drop(new_col, axis = 1, inplace = 1)\n",
    "        \n",
    "    # Add Legend and return Plot\n",
    "    ax.legend(loc = legend_loc)\n",
    "    return ax"
   ]
  },
  {
   "cell_type": "markdown",
   "metadata": {},
   "source": [
    "# Read-in Data"
   ]
  },
  {
   "cell_type": "code",
   "execution_count": 4,
   "metadata": {
    "collapsed": false
   },
   "outputs": [],
   "source": [
    "files = glob.glob(\"../data/*.csv\")\n",
    "list_ = []\n",
    "\n",
    "for f in files:\n",
    "    # Use low_memory = False to avoid warning message for mixed type data\n",
    "    tmp_df = pd.read_csv(f, header = 1, engine = 'python')\n",
    "    list_.append(tmp_df)\n",
    "\n",
    "df = pd.concat(list_, ignore_index = True)"
   ]
  },
  {
   "cell_type": "markdown",
   "metadata": {},
   "source": [
    "# Exploratory Data Analysis"
   ]
  },
  {
   "cell_type": "markdown",
   "metadata": {},
   "source": [
    "## Dataset Structure"
   ]
  },
  {
   "cell_type": "code",
   "execution_count": 5,
   "metadata": {
    "collapsed": false
   },
   "outputs": [
    {
     "data": {
      "text/plain": [
       "Fully Paid                                             130811\n",
       "Current                                                 64570\n",
       "Charged Off                                             28833\n",
       "Does not meet the credit policy. Status:Fully Paid       1988\n",
       "Late (31-120 days)                                       1973\n",
       "In Grace Period                                          1314\n",
       "Does not meet the credit policy. Status:Charged Off       761\n",
       "Late (16-30 days)                                         362\n",
       "Default                                                    46\n",
       "Name: loan_status, dtype: int64"
      ]
     },
     "execution_count": 5,
     "metadata": {},
     "output_type": "execute_result"
    }
   ],
   "source": [
    "df['loan_status'].value_counts()"
   ]
  },
  {
   "cell_type": "code",
   "execution_count": 6,
   "metadata": {
    "collapsed": false
   },
   "outputs": [
    {
     "name": "stdout",
     "output_type": "stream",
     "text": [
      "<class 'pandas.core.frame.DataFrame'>\n",
      "Int64Index: 230663 entries, 0 to 230662\n",
      "Data columns (total 74 columns):\n",
      "id                             230663 non-null object\n",
      "member_id                      230658 non-null float64\n",
      "loan_amnt                      230658 non-null float64\n",
      "funded_amnt                    230658 non-null float64\n",
      "funded_amnt_inv                230658 non-null float64\n",
      "term                           230658 non-null object\n",
      "int_rate                       230658 non-null object\n",
      "installment                    230658 non-null float64\n",
      "grade                          230658 non-null object\n",
      "sub_grade                      230658 non-null object\n",
      "emp_title                      216311 non-null object\n",
      "emp_length                     230658 non-null object\n",
      "home_ownership                 230658 non-null object\n",
      "annual_inc                     230654 non-null float64\n",
      "verification_status            230658 non-null object\n",
      "issue_d                        230658 non-null object\n",
      "loan_status                    230658 non-null object\n",
      "pymnt_plan                     230658 non-null object\n",
      "url                            230658 non-null object\n",
      "desc                           110705 non-null object\n",
      "purpose                        230658 non-null object\n",
      "title                          230639 non-null object\n",
      "zip_code                       230658 non-null object\n",
      "addr_state                     230658 non-null object\n",
      "dti                            230658 non-null float64\n",
      "delinq_2yrs                    230629 non-null float64\n",
      "earliest_cr_line               230629 non-null object\n",
      "inq_last_6mths                 230629 non-null float64\n",
      "mths_since_last_delinq         96188 non-null float64\n",
      "mths_since_last_record         21114 non-null float64\n",
      "open_acc                       230629 non-null float64\n",
      "pub_rec                        230629 non-null float64\n",
      "revol_bal                      230658 non-null float64\n",
      "revol_util                     230443 non-null object\n",
      "total_acc                      230629 non-null float64\n",
      "initial_list_status            230658 non-null object\n",
      "out_prncp                      230658 non-null float64\n",
      "out_prncp_inv                  230658 non-null float64\n",
      "total_pymnt                    230658 non-null float64\n",
      "total_pymnt_inv                230658 non-null float64\n",
      "total_rec_prncp                230658 non-null float64\n",
      "total_rec_int                  230658 non-null float64\n",
      "total_rec_late_fee             230658 non-null float64\n",
      "recoveries                     230658 non-null float64\n",
      "collection_recovery_fee        230658 non-null float64\n",
      "last_pymnt_d                   230425 non-null object\n",
      "last_pymnt_amnt                230658 non-null float64\n",
      "next_pymnt_d                   71014 non-null object\n",
      "last_credit_pull_d             230643 non-null object\n",
      "collections_12_mths_ex_med     230513 non-null float64\n",
      "mths_since_last_major_derog    32497 non-null float64\n",
      "policy_code                    230658 non-null float64\n",
      "application_type               230658 non-null object\n",
      "annual_inc_joint               0 non-null float64\n",
      "dti_joint                      0 non-null float64\n",
      "verification_status_joint      0 non-null float64\n",
      "acc_now_delinq                 230629 non-null float64\n",
      "tot_coll_amt                   160382 non-null float64\n",
      "tot_cur_bal                    160382 non-null float64\n",
      "open_acc_6m                    0 non-null float64\n",
      "open_il_6m                     0 non-null float64\n",
      "open_il_12m                    0 non-null float64\n",
      "open_il_24m                    0 non-null float64\n",
      "mths_since_rcnt_il             0 non-null float64\n",
      "total_bal_il                   0 non-null float64\n",
      "il_util                        0 non-null float64\n",
      "open_rv_12m                    0 non-null float64\n",
      "open_rv_24m                    0 non-null float64\n",
      "max_bal_bc                     0 non-null float64\n",
      "all_util                       0 non-null float64\n",
      "total_rev_hi_lim               160382 non-null float64\n",
      "inq_fi                         0 non-null float64\n",
      "total_cu_tl                    0 non-null float64\n",
      "inq_last_12m                   0 non-null float64\n",
      "dtypes: float64(49), object(25)\n",
      "memory usage: 132.0+ MB\n"
     ]
    }
   ],
   "source": [
    "df.info()"
   ]
  },
  {
   "cell_type": "code",
   "execution_count": 7,
   "metadata": {
    "collapsed": false
   },
   "outputs": [
    {
     "data": {
      "text/html": [
       "<div>\n",
       "<table border=\"1\" class=\"dataframe\">\n",
       "  <thead>\n",
       "    <tr style=\"text-align: right;\">\n",
       "      <th></th>\n",
       "      <th>member_id</th>\n",
       "      <th>loan_amnt</th>\n",
       "      <th>funded_amnt</th>\n",
       "      <th>funded_amnt_inv</th>\n",
       "      <th>installment</th>\n",
       "      <th>annual_inc</th>\n",
       "      <th>dti</th>\n",
       "      <th>delinq_2yrs</th>\n",
       "      <th>inq_last_6mths</th>\n",
       "      <th>mths_since_last_delinq</th>\n",
       "      <th>...</th>\n",
       "      <th>total_bal_il</th>\n",
       "      <th>il_util</th>\n",
       "      <th>open_rv_12m</th>\n",
       "      <th>open_rv_24m</th>\n",
       "      <th>max_bal_bc</th>\n",
       "      <th>all_util</th>\n",
       "      <th>total_rev_hi_lim</th>\n",
       "      <th>inq_fi</th>\n",
       "      <th>total_cu_tl</th>\n",
       "      <th>inq_last_12m</th>\n",
       "    </tr>\n",
       "  </thead>\n",
       "  <tbody>\n",
       "    <tr>\n",
       "      <th>count</th>\n",
       "      <td>230658.000000</td>\n",
       "      <td>230658.000000</td>\n",
       "      <td>230658.000000</td>\n",
       "      <td>230658.000000</td>\n",
       "      <td>230658.000000</td>\n",
       "      <td>230654.000000</td>\n",
       "      <td>230658.000000</td>\n",
       "      <td>230629.000000</td>\n",
       "      <td>230629.000000</td>\n",
       "      <td>96188.000000</td>\n",
       "      <td>...</td>\n",
       "      <td>0</td>\n",
       "      <td>0</td>\n",
       "      <td>0</td>\n",
       "      <td>0</td>\n",
       "      <td>0</td>\n",
       "      <td>0</td>\n",
       "      <td>160382.000000</td>\n",
       "      <td>0</td>\n",
       "      <td>0</td>\n",
       "      <td>0</td>\n",
       "    </tr>\n",
       "    <tr>\n",
       "      <th>mean</th>\n",
       "      <td>4973037.326232</td>\n",
       "      <td>13752.488966</td>\n",
       "      <td>13700.987067</td>\n",
       "      <td>13565.474715</td>\n",
       "      <td>421.416865</td>\n",
       "      <td>71666.693854</td>\n",
       "      <td>16.379008</td>\n",
       "      <td>0.223563</td>\n",
       "      <td>0.854788</td>\n",
       "      <td>34.983407</td>\n",
       "      <td>...</td>\n",
       "      <td>NaN</td>\n",
       "      <td>NaN</td>\n",
       "      <td>NaN</td>\n",
       "      <td>NaN</td>\n",
       "      <td>NaN</td>\n",
       "      <td>NaN</td>\n",
       "      <td>29894.107182</td>\n",
       "      <td>NaN</td>\n",
       "      <td>NaN</td>\n",
       "      <td>NaN</td>\n",
       "    </tr>\n",
       "    <tr>\n",
       "      <th>std</th>\n",
       "      <td>3608537.178254</td>\n",
       "      <td>8089.573944</td>\n",
       "      <td>8060.727753</td>\n",
       "      <td>8101.843887</td>\n",
       "      <td>241.413308</td>\n",
       "      <td>54313.347690</td>\n",
       "      <td>7.580052</td>\n",
       "      <td>0.673448</td>\n",
       "      <td>1.145318</td>\n",
       "      <td>21.744923</td>\n",
       "      <td>...</td>\n",
       "      <td>NaN</td>\n",
       "      <td>NaN</td>\n",
       "      <td>NaN</td>\n",
       "      <td>NaN</td>\n",
       "      <td>NaN</td>\n",
       "      <td>NaN</td>\n",
       "      <td>37775.038011</td>\n",
       "      <td>NaN</td>\n",
       "      <td>NaN</td>\n",
       "      <td>NaN</td>\n",
       "    </tr>\n",
       "    <tr>\n",
       "      <th>min</th>\n",
       "      <td>70473.000000</td>\n",
       "      <td>500.000000</td>\n",
       "      <td>500.000000</td>\n",
       "      <td>0.000000</td>\n",
       "      <td>15.670000</td>\n",
       "      <td>1896.000000</td>\n",
       "      <td>0.000000</td>\n",
       "      <td>0.000000</td>\n",
       "      <td>0.000000</td>\n",
       "      <td>0.000000</td>\n",
       "      <td>...</td>\n",
       "      <td>NaN</td>\n",
       "      <td>NaN</td>\n",
       "      <td>NaN</td>\n",
       "      <td>NaN</td>\n",
       "      <td>NaN</td>\n",
       "      <td>NaN</td>\n",
       "      <td>0.000000</td>\n",
       "      <td>NaN</td>\n",
       "      <td>NaN</td>\n",
       "      <td>NaN</td>\n",
       "    </tr>\n",
       "    <tr>\n",
       "      <th>25%</th>\n",
       "      <td>1538195.750000</td>\n",
       "      <td>7500.000000</td>\n",
       "      <td>7500.000000</td>\n",
       "      <td>7300.000000</td>\n",
       "      <td>244.930000</td>\n",
       "      <td>45000.000000</td>\n",
       "      <td>10.710000</td>\n",
       "      <td>0.000000</td>\n",
       "      <td>0.000000</td>\n",
       "      <td>17.000000</td>\n",
       "      <td>...</td>\n",
       "      <td>NaN</td>\n",
       "      <td>NaN</td>\n",
       "      <td>NaN</td>\n",
       "      <td>NaN</td>\n",
       "      <td>NaN</td>\n",
       "      <td>NaN</td>\n",
       "      <td>13900.000000</td>\n",
       "      <td>NaN</td>\n",
       "      <td>NaN</td>\n",
       "      <td>NaN</td>\n",
       "    </tr>\n",
       "    <tr>\n",
       "      <th>50%</th>\n",
       "      <td>4368368.000000</td>\n",
       "      <td>12000.000000</td>\n",
       "      <td>12000.000000</td>\n",
       "      <td>12000.000000</td>\n",
       "      <td>374.330000</td>\n",
       "      <td>61000.000000</td>\n",
       "      <td>16.130000</td>\n",
       "      <td>0.000000</td>\n",
       "      <td>0.000000</td>\n",
       "      <td>32.000000</td>\n",
       "      <td>...</td>\n",
       "      <td>NaN</td>\n",
       "      <td>NaN</td>\n",
       "      <td>NaN</td>\n",
       "      <td>NaN</td>\n",
       "      <td>NaN</td>\n",
       "      <td>NaN</td>\n",
       "      <td>23000.000000</td>\n",
       "      <td>NaN</td>\n",
       "      <td>NaN</td>\n",
       "      <td>NaN</td>\n",
       "    </tr>\n",
       "    <tr>\n",
       "      <th>75%</th>\n",
       "      <td>8176967.000000</td>\n",
       "      <td>19125.000000</td>\n",
       "      <td>19000.000000</td>\n",
       "      <td>18850.000000</td>\n",
       "      <td>552.670000</td>\n",
       "      <td>85500.000000</td>\n",
       "      <td>21.810000</td>\n",
       "      <td>0.000000</td>\n",
       "      <td>1.000000</td>\n",
       "      <td>50.000000</td>\n",
       "      <td>...</td>\n",
       "      <td>NaN</td>\n",
       "      <td>NaN</td>\n",
       "      <td>NaN</td>\n",
       "      <td>NaN</td>\n",
       "      <td>NaN</td>\n",
       "      <td>NaN</td>\n",
       "      <td>37200.000000</td>\n",
       "      <td>NaN</td>\n",
       "      <td>NaN</td>\n",
       "      <td>NaN</td>\n",
       "    </tr>\n",
       "    <tr>\n",
       "      <th>max</th>\n",
       "      <td>12096968.000000</td>\n",
       "      <td>35000.000000</td>\n",
       "      <td>35000.000000</td>\n",
       "      <td>35000.000000</td>\n",
       "      <td>1408.130000</td>\n",
       "      <td>7141778.000000</td>\n",
       "      <td>34.990000</td>\n",
       "      <td>29.000000</td>\n",
       "      <td>33.000000</td>\n",
       "      <td>156.000000</td>\n",
       "      <td>...</td>\n",
       "      <td>NaN</td>\n",
       "      <td>NaN</td>\n",
       "      <td>NaN</td>\n",
       "      <td>NaN</td>\n",
       "      <td>NaN</td>\n",
       "      <td>NaN</td>\n",
       "      <td>9999999.000000</td>\n",
       "      <td>NaN</td>\n",
       "      <td>NaN</td>\n",
       "      <td>NaN</td>\n",
       "    </tr>\n",
       "  </tbody>\n",
       "</table>\n",
       "<p>8 rows × 49 columns</p>\n",
       "</div>"
      ],
      "text/plain": [
       "             member_id      loan_amnt    funded_amnt  funded_amnt_inv  \\\n",
       "count    230658.000000  230658.000000  230658.000000    230658.000000   \n",
       "mean    4973037.326232   13752.488966   13700.987067     13565.474715   \n",
       "std     3608537.178254    8089.573944    8060.727753      8101.843887   \n",
       "min       70473.000000     500.000000     500.000000         0.000000   \n",
       "25%     1538195.750000    7500.000000    7500.000000      7300.000000   \n",
       "50%     4368368.000000   12000.000000   12000.000000     12000.000000   \n",
       "75%     8176967.000000   19125.000000   19000.000000     18850.000000   \n",
       "max    12096968.000000   35000.000000   35000.000000     35000.000000   \n",
       "\n",
       "         installment      annual_inc            dti    delinq_2yrs  \\\n",
       "count  230658.000000   230654.000000  230658.000000  230629.000000   \n",
       "mean      421.416865    71666.693854      16.379008       0.223563   \n",
       "std       241.413308    54313.347690       7.580052       0.673448   \n",
       "min        15.670000     1896.000000       0.000000       0.000000   \n",
       "25%       244.930000    45000.000000      10.710000       0.000000   \n",
       "50%       374.330000    61000.000000      16.130000       0.000000   \n",
       "75%       552.670000    85500.000000      21.810000       0.000000   \n",
       "max      1408.130000  7141778.000000      34.990000      29.000000   \n",
       "\n",
       "       inq_last_6mths  mths_since_last_delinq      ...       total_bal_il  \\\n",
       "count   230629.000000            96188.000000      ...                  0   \n",
       "mean         0.854788               34.983407      ...                NaN   \n",
       "std          1.145318               21.744923      ...                NaN   \n",
       "min          0.000000                0.000000      ...                NaN   \n",
       "25%          0.000000               17.000000      ...                NaN   \n",
       "50%          0.000000               32.000000      ...                NaN   \n",
       "75%          1.000000               50.000000      ...                NaN   \n",
       "max         33.000000              156.000000      ...                NaN   \n",
       "\n",
       "       il_util  open_rv_12m  open_rv_24m  max_bal_bc  all_util  \\\n",
       "count        0            0            0           0         0   \n",
       "mean       NaN          NaN          NaN         NaN       NaN   \n",
       "std        NaN          NaN          NaN         NaN       NaN   \n",
       "min        NaN          NaN          NaN         NaN       NaN   \n",
       "25%        NaN          NaN          NaN         NaN       NaN   \n",
       "50%        NaN          NaN          NaN         NaN       NaN   \n",
       "75%        NaN          NaN          NaN         NaN       NaN   \n",
       "max        NaN          NaN          NaN         NaN       NaN   \n",
       "\n",
       "       total_rev_hi_lim  inq_fi  total_cu_tl  inq_last_12m  \n",
       "count     160382.000000       0            0             0  \n",
       "mean       29894.107182     NaN          NaN           NaN  \n",
       "std        37775.038011     NaN          NaN           NaN  \n",
       "min            0.000000     NaN          NaN           NaN  \n",
       "25%        13900.000000     NaN          NaN           NaN  \n",
       "50%        23000.000000     NaN          NaN           NaN  \n",
       "75%        37200.000000     NaN          NaN           NaN  \n",
       "max      9999999.000000     NaN          NaN           NaN  \n",
       "\n",
       "[8 rows x 49 columns]"
      ]
     },
     "execution_count": 7,
     "metadata": {},
     "output_type": "execute_result"
    }
   ],
   "source": [
    "df.describe()"
   ]
  },
  {
   "cell_type": "code",
   "execution_count": 8,
   "metadata": {
    "collapsed": true
   },
   "outputs": [],
   "source": [
    "# Restrict dataset to Charged Off and Fully Paid observations\n",
    "df = df.loc[(df['loan_status'] == 'Charged Off') | (df['loan_status'] == 'Fully Paid'), :]"
   ]
  },
  {
   "cell_type": "code",
   "execution_count": 9,
   "metadata": {
    "collapsed": true
   },
   "outputs": [],
   "source": [
    "# Get Rid of all columns with no obs\n",
    "df.dropna(axis=1,how='all', inplace = True)"
   ]
  },
  {
   "cell_type": "code",
   "execution_count": 10,
   "metadata": {
    "collapsed": false
   },
   "outputs": [
    {
     "name": "stdout",
     "output_type": "stream",
     "text": [
      "The mean charge off is 18.06%\n"
     ]
    }
   ],
   "source": [
    "mean_charge_off = df.loc[df['loan_status'] == 'Charged Off', :].shape[0]/df.shape[0]\n",
    "print(\"The mean charge off is {0:.2f}%\".format(mean_charge_off*100))"
   ]
  },
  {
   "cell_type": "code",
   "execution_count": 11,
   "metadata": {
    "collapsed": false
   },
   "outputs": [
    {
     "name": "stdout",
     "output_type": "stream",
     "text": [
      "The mean funded amount is 13070.66\n"
     ]
    }
   ],
   "source": [
    "mean_funded_amnt = df['funded_amnt'].mean()\n",
    "print(\"The mean funded amount is {0:.2f}\".format(mean_funded_amnt))"
   ]
  },
  {
   "cell_type": "code",
   "execution_count": 12,
   "metadata": {
    "collapsed": false
   },
   "outputs": [
    {
     "name": "stdout",
     "output_type": "stream",
     "text": [
      "The mean loss on charged off loans is 6544.11\n"
     ]
    }
   ],
   "source": [
    "mean_loss_on_charge_off = (\n",
    "    df.loc[df['loan_status'] == 'Charged Off', 'funded_amnt'] -\n",
    "    df.loc[df['loan_status'] == 'Charged Off', 'total_pymnt']).mean()\n",
    "print(\"The mean loss on charged off loans is {0:.2f}\".format(mean_loss_on_charge_off))"
   ]
  },
  {
   "cell_type": "code",
   "execution_count": 13,
   "metadata": {
    "collapsed": false
   },
   "outputs": [
    {
     "name": "stdout",
     "output_type": "stream",
     "text": [
      "The mean gain on paid loans is 2267.55\n"
     ]
    }
   ],
   "source": [
    "mean_gain_on_paid_loans = df.loc[df['loan_status'] == 'Fully Paid', 'total_rec_int'].mean()\n",
    "print(\"The mean gain on paid loans is {0:.2f}\".format(mean_gain_on_paid_loans))"
   ]
  },
  {
   "cell_type": "markdown",
   "metadata": {},
   "source": [
    "## Charge-off Rate"
   ]
  },
  {
   "cell_type": "code",
   "execution_count": 14,
   "metadata": {
    "collapsed": false
   },
   "outputs": [
    {
     "data": {
      "text/plain": [
       "<matplotlib.axes._subplots.AxesSubplot at 0x10a356860>"
      ]
     },
     "execution_count": 14,
     "metadata": {},
     "output_type": "execute_result"
    },
    {
     "data": {
      "image/png": "[encoded data removed]",
      "text/plain": [
       "<matplotlib.figure.Figure at 0x10a3569b0>"
      ]
     },
     "metadata": {},
     "output_type": "display_data"
    }
   ],
   "source": [
    "labels = {\n",
    "    'title': 'Charged Off Rate by Loan Amount Bucket',\n",
    "    'xlabel': 'Loan Amount Bucket',\n",
    "    'ylabel': 'Charged Off Rate'\n",
    "}\n",
    "charge_off_plot_qcut(df, 'loan_amnt', q = 5, labels = labels, legend_loc = 2)"
   ]
  },
  {
   "cell_type": "markdown",
   "metadata": {},
   "source": [
    "## Funded Amount"
   ]
  },
  {
   "cell_type": "code",
   "execution_count": 15,
   "metadata": {
    "collapsed": false
   },
   "outputs": [
    {
     "name": "stdout",
     "output_type": "stream",
     "text": [
      "98.89% of loans are fully funded at this point in time in the dataset.\n"
     ]
    }
   ],
   "source": [
    "fund_pct = df.loc[df['loan_amnt'] == df['funded_amnt']].shape[0]/df.shape[0]*100\n",
    "print('{0:.2f}% of loans are fully funded at this point in time in the dataset.'.format(fund_pct))"
   ]
  },
  {
   "cell_type": "code",
   "execution_count": 16,
   "metadata": {
    "collapsed": false
   },
   "outputs": [
    {
     "data": {
      "text/plain": [
       "<matplotlib.axes._subplots.AxesSubplot at 0x10a354f98>"
      ]
     },
     "execution_count": 16,
     "metadata": {},
     "output_type": "execute_result"
    },
    {
     "data": {
      "image/png": "[encoded data removed]",
      "text/plain": [
       "<matplotlib.figure.Figure at 0x10a35ee80>"
      ]
     },
     "metadata": {},
     "output_type": "display_data"
    }
   ],
   "source": [
    "# Create % funded by investors column and sequence for cuts\n",
    "df['inv_pct'] = df['funded_amnt_inv']/df['funded_amnt']\n",
    "seq = np.linspace(0,1,5)\n",
    "labels = {\n",
    "    'title': 'Charged Off Rate by % of Loan Funded by Investors',\n",
    "    'xlabel': '% of Loan Funded by Investors Bucket',\n",
    "    'ylabel': 'Charged Off Rate'\n",
    "}\n",
    "charge_off_plot_cut(df, 'inv_pct', bins = seq, labels = labels, legend_loc = 1)"
   ]
  },
  {
   "cell_type": "markdown",
   "metadata": {},
   "source": [
    "## Term"
   ]
  },
  {
   "cell_type": "code",
   "execution_count": 17,
   "metadata": {
    "collapsed": false
   },
   "outputs": [
    {
     "data": {
      "text/plain": [
       " 36 months    0.148009\n",
       " 60 months    0.317684\n",
       "Name: term, dtype: float64"
      ]
     },
     "execution_count": 17,
     "metadata": {},
     "output_type": "execute_result"
    }
   ],
   "source": [
    "df.loc[df['loan_status'] == 'Charged Off', 'term'].value_counts()/df['term'].value_counts()"
   ]
  },
  {
   "cell_type": "markdown",
   "metadata": {},
   "source": [
    "### By Loan Amount"
   ]
  },
  {
   "cell_type": "code",
   "execution_count": 18,
   "metadata": {
    "collapsed": false
   },
   "outputs": [
    {
     "data": {
      "text/html": [
       "<div>\n",
       "<table border=\"1\" class=\"dataframe\">\n",
       "  <thead>\n",
       "    <tr style=\"text-align: right;\">\n",
       "      <th>term</th>\n",
       "      <th>36 months</th>\n",
       "      <th>60 months</th>\n",
       "    </tr>\n",
       "    <tr>\n",
       "      <th>loan_amnt_qcut</th>\n",
       "      <th></th>\n",
       "      <th></th>\n",
       "    </tr>\n",
       "  </thead>\n",
       "  <tbody>\n",
       "    <tr>\n",
       "      <th>[500, 6000]</th>\n",
       "      <td>0.147264</td>\n",
       "      <td>0.283807</td>\n",
       "    </tr>\n",
       "    <tr>\n",
       "      <th>(6000, 10000]</th>\n",
       "      <td>0.155410</td>\n",
       "      <td>0.288344</td>\n",
       "    </tr>\n",
       "    <tr>\n",
       "      <th>(10000, 14000]</th>\n",
       "      <td>0.143253</td>\n",
       "      <td>0.295650</td>\n",
       "    </tr>\n",
       "    <tr>\n",
       "      <th>(14000, 20000]</th>\n",
       "      <td>0.146673</td>\n",
       "      <td>0.318939</td>\n",
       "    </tr>\n",
       "    <tr>\n",
       "      <th>(20000, 35000]</th>\n",
       "      <td>0.139392</td>\n",
       "      <td>0.333333</td>\n",
       "    </tr>\n",
       "  </tbody>\n",
       "</table>\n",
       "</div>"
      ],
      "text/plain": [
       "term             36 months   60 months\n",
       "loan_amnt_qcut                        \n",
       "[500, 6000]       0.147264    0.283807\n",
       "(6000, 10000]     0.155410    0.288344\n",
       "(10000, 14000]    0.143253    0.295650\n",
       "(14000, 20000]    0.146673    0.318939\n",
       "(20000, 35000]    0.139392    0.333333"
      ]
     },
     "execution_count": 18,
     "metadata": {},
     "output_type": "execute_result"
    }
   ],
   "source": [
    "(pd.crosstab(df.loc[df['loan_status'] == 'Charged Off', 'loan_amnt_qcut'],\n",
    "            df.loc[df['loan_status'] == 'Charged Off', 'term'])/\n",
    " pd.crosstab(df['loan_amnt_qcut'],df['term']))"
   ]
  },
  {
   "cell_type": "markdown",
   "metadata": {},
   "source": [
    "### By Pct of Investors Money"
   ]
  },
  {
   "cell_type": "code",
   "execution_count": 19,
   "metadata": {
    "collapsed": false
   },
   "outputs": [
    {
     "data": {
      "text/html": [
       "<div>\n",
       "<table border=\"1\" class=\"dataframe\">\n",
       "  <thead>\n",
       "    <tr style=\"text-align: right;\">\n",
       "      <th>term</th>\n",
       "      <th>36 months</th>\n",
       "      <th>60 months</th>\n",
       "    </tr>\n",
       "    <tr>\n",
       "      <th>inv_pct_cut</th>\n",
       "      <th></th>\n",
       "      <th></th>\n",
       "    </tr>\n",
       "  </thead>\n",
       "  <tbody>\n",
       "    <tr>\n",
       "      <th>(0, 0.25]</th>\n",
       "      <td>0.226207</td>\n",
       "      <td>0.533333</td>\n",
       "    </tr>\n",
       "    <tr>\n",
       "      <th>(0.25, 0.5]</th>\n",
       "      <td>0.197552</td>\n",
       "      <td>0.430769</td>\n",
       "    </tr>\n",
       "    <tr>\n",
       "      <th>(0.5, 0.75]</th>\n",
       "      <td>0.149596</td>\n",
       "      <td>0.467532</td>\n",
       "    </tr>\n",
       "    <tr>\n",
       "      <th>(0.75, 1]</th>\n",
       "      <td>0.147267</td>\n",
       "      <td>0.316959</td>\n",
       "    </tr>\n",
       "  </tbody>\n",
       "</table>\n",
       "</div>"
      ],
      "text/plain": [
       "term          36 months   60 months\n",
       "inv_pct_cut                        \n",
       "(0, 0.25]      0.226207    0.533333\n",
       "(0.25, 0.5]    0.197552    0.430769\n",
       "(0.5, 0.75]    0.149596    0.467532\n",
       "(0.75, 1]      0.147267    0.316959"
      ]
     },
     "execution_count": 19,
     "metadata": {},
     "output_type": "execute_result"
    }
   ],
   "source": [
    "(pd.crosstab(df.loc[df['loan_status'] == 'Charged Off', 'inv_pct_cut'],\n",
    "            df.loc[df['loan_status'] == 'Charged Off', 'term'])/\n",
    " pd.crosstab(df['inv_pct_cut'],df['term']))"
   ]
  },
  {
   "cell_type": "markdown",
   "metadata": {},
   "source": [
    "## Interest Rate"
   ]
  },
  {
   "cell_type": "code",
   "execution_count": 20,
   "metadata": {
    "collapsed": false
   },
   "outputs": [],
   "source": [
    "df['int_rate'] = pd.to_numeric(df['int_rate'].str.replace('%', ''), errors = 'coerce')/100"
   ]
  },
  {
   "cell_type": "code",
   "execution_count": 21,
   "metadata": {
    "collapsed": false
   },
   "outputs": [
    {
     "data": {
      "text/plain": [
       "<matplotlib.axes._subplots.AxesSubplot at 0x10bb32d30>"
      ]
     },
     "execution_count": 21,
     "metadata": {},
     "output_type": "execute_result"
    },
    {
     "data": {
      "image/png": "[encoded data removed]",
      "text/plain": [
       "<matplotlib.figure.Figure at 0x10bb32cc0>"
      ]
     },
     "metadata": {},
     "output_type": "display_data"
    }
   ],
   "source": [
    "seq = np.linspace(0,.3,5)\n",
    "labels = {\n",
    "    'title': 'Charged Off Rate by Interst Rate',\n",
    "    'xlabel': 'Interst Rate Bucket',\n",
    "    'ylabel': 'Charged Off Rate'\n",
    "}\n",
    "charge_off_plot_cut(df, 'int_rate', bins = seq, labels = labels, legend_loc = 2)"
   ]
  },
  {
   "cell_type": "markdown",
   "metadata": {},
   "source": [
    "## Installment"
   ]
  },
  {
   "cell_type": "code",
   "execution_count": 22,
   "metadata": {
    "collapsed": false
   },
   "outputs": [
    {
     "data": {
      "text/plain": [
       "<matplotlib.axes._subplots.AxesSubplot at 0x10bb2c080>"
      ]
     },
     "execution_count": 22,
     "metadata": {},
     "output_type": "execute_result"
    },
    {
     "data": {
      "image/png": "[encoded data removed]",
      "text/plain": [
       "<matplotlib.figure.Figure at 0x10bb26710>"
      ]
     },
     "metadata": {},
     "output_type": "display_data"
    }
   ],
   "source": [
    "labels = {\n",
    "    'title': 'Charged Off Rate by Installment Amount',\n",
    "    'xlabel': 'Installment Amount Bucket',\n",
    "    'ylabel': 'Charged Off Rate'\n",
    "}\n",
    "charge_off_plot_qcut(df, 'installment', q = 5, labels = labels, legend_loc = 1)"
   ]
  },
  {
   "cell_type": "code",
   "execution_count": 23,
   "metadata": {
    "collapsed": false
   },
   "outputs": [
    {
     "data": {
      "text/html": [
       "<div>\n",
       "<table border=\"1\" class=\"dataframe\">\n",
       "  <thead>\n",
       "    <tr style=\"text-align: right;\">\n",
       "      <th>term</th>\n",
       "      <th>36 months</th>\n",
       "      <th>60 months</th>\n",
       "    </tr>\n",
       "    <tr>\n",
       "      <th>installment_qcut</th>\n",
       "      <th></th>\n",
       "      <th></th>\n",
       "    </tr>\n",
       "  </thead>\n",
       "  <tbody>\n",
       "    <tr>\n",
       "      <th>[15.69, 199.63]</th>\n",
       "      <td>0.142769</td>\n",
       "      <td>0.269369</td>\n",
       "    </tr>\n",
       "    <tr>\n",
       "      <th>(199.63, 315.78]</th>\n",
       "      <td>0.146641</td>\n",
       "      <td>0.277286</td>\n",
       "    </tr>\n",
       "    <tr>\n",
       "      <th>(315.78, 417.81]</th>\n",
       "      <td>0.155337</td>\n",
       "      <td>0.287037</td>\n",
       "    </tr>\n",
       "    <tr>\n",
       "      <th>(417.81, 590.5]</th>\n",
       "      <td>0.150281</td>\n",
       "      <td>0.334244</td>\n",
       "    </tr>\n",
       "    <tr>\n",
       "      <th>(590.5, 1408.13]</th>\n",
       "      <td>0.145621</td>\n",
       "      <td>0.351327</td>\n",
       "    </tr>\n",
       "  </tbody>\n",
       "</table>\n",
       "</div>"
      ],
      "text/plain": [
       "term               36 months   60 months\n",
       "installment_qcut                        \n",
       "[15.69, 199.63]     0.142769    0.269369\n",
       "(199.63, 315.78]    0.146641    0.277286\n",
       "(315.78, 417.81]    0.155337    0.287037\n",
       "(417.81, 590.5]     0.150281    0.334244\n",
       "(590.5, 1408.13]    0.145621    0.351327"
      ]
     },
     "execution_count": 23,
     "metadata": {},
     "output_type": "execute_result"
    }
   ],
   "source": [
    "(pd.crosstab(df.loc[df['loan_status'] == 'Charged Off', 'installment_qcut'],\n",
    "            df.loc[df['loan_status'] == 'Charged Off', 'term'])/\n",
    " pd.crosstab(df['installment_qcut'],df['term']))"
   ]
  },
  {
   "cell_type": "markdown",
   "metadata": {},
   "source": [
    "## Grade"
   ]
  },
  {
   "cell_type": "code",
   "execution_count": 24,
   "metadata": {
    "collapsed": false
   },
   "outputs": [
    {
     "data": {
      "text/plain": [
       "A    0.066195\n",
       "B    0.134153\n",
       "C    0.208866\n",
       "D    0.267214\n",
       "E    0.341272\n",
       "F    0.404959\n",
       "G    0.414460\n",
       "Name: grade, dtype: float64"
      ]
     },
     "execution_count": 24,
     "metadata": {},
     "output_type": "execute_result"
    }
   ],
   "source": [
    "df.loc[df['loan_status'] == 'Charged Off', 'grade'].value_counts()/df['grade'].value_counts()"
   ]
  },
  {
   "cell_type": "code",
   "execution_count": 25,
   "metadata": {
    "collapsed": false
   },
   "outputs": [
    {
     "data": {
      "text/html": [
       "<div>\n",
       "<table border=\"1\" class=\"dataframe\">\n",
       "  <thead>\n",
       "    <tr style=\"text-align: right;\">\n",
       "      <th>grade</th>\n",
       "      <th>A</th>\n",
       "      <th>B</th>\n",
       "      <th>C</th>\n",
       "      <th>D</th>\n",
       "      <th>E</th>\n",
       "      <th>F</th>\n",
       "      <th>G</th>\n",
       "    </tr>\n",
       "    <tr>\n",
       "      <th>inv_pct_cut</th>\n",
       "      <th></th>\n",
       "      <th></th>\n",
       "      <th></th>\n",
       "      <th></th>\n",
       "      <th></th>\n",
       "      <th></th>\n",
       "      <th></th>\n",
       "    </tr>\n",
       "  </thead>\n",
       "  <tbody>\n",
       "    <tr>\n",
       "      <th>(0, 0.25]</th>\n",
       "      <td>0.066667</td>\n",
       "      <td>0.219388</td>\n",
       "      <td>0.233716</td>\n",
       "      <td>0.335938</td>\n",
       "      <td>0.255814</td>\n",
       "      <td>0.235294</td>\n",
       "      <td>0.800000</td>\n",
       "    </tr>\n",
       "    <tr>\n",
       "      <th>(0.25, 0.5]</th>\n",
       "      <td>0.056338</td>\n",
       "      <td>0.161458</td>\n",
       "      <td>0.216216</td>\n",
       "      <td>0.311927</td>\n",
       "      <td>0.339623</td>\n",
       "      <td>0.526316</td>\n",
       "      <td>0.500000</td>\n",
       "    </tr>\n",
       "    <tr>\n",
       "      <th>(0.5, 0.75]</th>\n",
       "      <td>0.115385</td>\n",
       "      <td>0.145098</td>\n",
       "      <td>0.173333</td>\n",
       "      <td>0.180328</td>\n",
       "      <td>0.280488</td>\n",
       "      <td>0.461538</td>\n",
       "      <td>0.400000</td>\n",
       "    </tr>\n",
       "    <tr>\n",
       "      <th>(0.75, 1]</th>\n",
       "      <td>0.066052</td>\n",
       "      <td>0.133576</td>\n",
       "      <td>0.208890</td>\n",
       "      <td>0.266958</td>\n",
       "      <td>0.342285</td>\n",
       "      <td>0.404751</td>\n",
       "      <td>0.411826</td>\n",
       "    </tr>\n",
       "  </tbody>\n",
       "</table>\n",
       "</div>"
      ],
      "text/plain": [
       "grade               A         B         C         D         E         F  \\\n",
       "inv_pct_cut                                                               \n",
       "(0, 0.25]    0.066667  0.219388  0.233716  0.335938  0.255814  0.235294   \n",
       "(0.25, 0.5]  0.056338  0.161458  0.216216  0.311927  0.339623  0.526316   \n",
       "(0.5, 0.75]  0.115385  0.145098  0.173333  0.180328  0.280488  0.461538   \n",
       "(0.75, 1]    0.066052  0.133576  0.208890  0.266958  0.342285  0.404751   \n",
       "\n",
       "grade               G  \n",
       "inv_pct_cut            \n",
       "(0, 0.25]    0.800000  \n",
       "(0.25, 0.5]  0.500000  \n",
       "(0.5, 0.75]  0.400000  \n",
       "(0.75, 1]    0.411826  "
      ]
     },
     "execution_count": 25,
     "metadata": {},
     "output_type": "execute_result"
    }
   ],
   "source": [
    "(pd.crosstab(df.loc[df['loan_status'] == 'Charged Off', 'inv_pct_cut'],\n",
    "            df.loc[df['loan_status'] == 'Charged Off', 'grade'])/\n",
    " pd.crosstab(df['inv_pct_cut'],df['grade']))"
   ]
  },
  {
   "cell_type": "markdown",
   "metadata": {},
   "source": [
    "### Sub Grade"
   ]
  },
  {
   "cell_type": "code",
   "execution_count": 26,
   "metadata": {
    "collapsed": false
   },
   "outputs": [
    {
     "data": {
      "text/plain": [
       "A1    0.035252\n",
       "A2    0.047951\n",
       "A3    0.061350\n",
       "A4    0.073718\n",
       "A5    0.087923\n",
       "B1    0.108072\n",
       "B2    0.119359\n",
       "B3    0.130311\n",
       "B4    0.150967\n",
       "B5    0.159022\n",
       "C1    0.176260\n",
       "C2    0.186615\n",
       "C3    0.223027\n",
       "C4    0.234643\n",
       "C5    0.244615\n",
       "D1    0.247006\n",
       "D2    0.254580\n",
       "D3    0.264376\n",
       "D4    0.290998\n",
       "D5    0.296220\n",
       "E1    0.303627\n",
       "E2    0.340909\n",
       "E3    0.331776\n",
       "E4    0.368009\n",
       "E5    0.379287\n",
       "F1    0.364297\n",
       "F2    0.383721\n",
       "F3    0.416569\n",
       "F4    0.449339\n",
       "F5    0.463504\n",
       "G1    0.447721\n",
       "G2    0.403226\n",
       "G3    0.469880\n",
       "G4    0.267241\n",
       "G5    0.392405\n",
       "Name: sub_grade, dtype: float64"
      ]
     },
     "execution_count": 26,
     "metadata": {},
     "output_type": "execute_result"
    }
   ],
   "source": [
    "df.loc[df['loan_status'] == 'Charged Off', 'sub_grade'].value_counts()/df['sub_grade'].value_counts()"
   ]
  },
  {
   "cell_type": "markdown",
   "metadata": {},
   "source": [
    "## Employment"
   ]
  },
  {
   "cell_type": "markdown",
   "metadata": {},
   "source": [
    "### Title"
   ]
  },
  {
   "cell_type": "code",
   "execution_count": 27,
   "metadata": {
    "collapsed": false
   },
   "outputs": [],
   "source": [
    "df['emp_title'].fillna('Not Reported', inplace = True)\n",
    "df.loc[df['emp_title'] == 'n/a', 'emp_title'] = 'Not Reported'"
   ]
  },
  {
   "cell_type": "code",
   "execution_count": 28,
   "metadata": {
    "collapsed": false
   },
   "outputs": [
    {
     "data": {
      "text/plain": [
       "Fully Paid     0.760116\n",
       "Charged Off    0.239884\n",
       "Name: loan_status, dtype: float64"
      ]
     },
     "execution_count": 28,
     "metadata": {},
     "output_type": "execute_result"
    }
   ],
   "source": [
    "(df.loc[df['emp_title'] == 'Not Reported', 'loan_status']\n",
    "    .value_counts()/df.loc[df['emp_title'] == 'Not Reported'].shape[0])"
   ]
  },
  {
   "cell_type": "code",
   "execution_count": 29,
   "metadata": {
    "collapsed": true
   },
   "outputs": [],
   "source": [
    "df.loc[df['emp_title'] != 'Not Reported', 'emp_title'] = 'Reported'"
   ]
  },
  {
   "cell_type": "code",
   "execution_count": 30,
   "metadata": {
    "collapsed": false
   },
   "outputs": [
    {
     "data": {
      "text/plain": [
       "Reported        0.176934\n",
       "Not Reported    0.239884\n",
       "Name: emp_title, dtype: float64"
      ]
     },
     "execution_count": 30,
     "metadata": {},
     "output_type": "execute_result"
    }
   ],
   "source": [
    "df.loc[df['loan_status'] == 'Charged Off', 'emp_title'].value_counts()/df['emp_title'].value_counts()"
   ]
  },
  {
   "cell_type": "markdown",
   "metadata": {},
   "source": [
    "## Length"
   ]
  },
  {
   "cell_type": "code",
   "execution_count": 31,
   "metadata": {
    "collapsed": false
   },
   "outputs": [],
   "source": [
    "df.loc[df['emp_length'] == 'n/a', 'emp_length'] = 'Not Reported'"
   ]
  },
  {
   "cell_type": "code",
   "execution_count": 32,
   "metadata": {
    "collapsed": false
   },
   "outputs": [
    {
     "data": {
      "text/plain": [
       "1 year          0.169177\n",
       "10+ years       0.183111\n",
       "2 years         0.168738\n",
       "3 years         0.173520\n",
       "4 years         0.169222\n",
       "5 years         0.174383\n",
       "6 years         0.181809\n",
       "7 years         0.188719\n",
       "8 years         0.186493\n",
       "9 years         0.185769\n",
       "< 1 year        0.174966\n",
       "Not Reported    0.252667\n",
       "Name: emp_length, dtype: float64"
      ]
     },
     "execution_count": 32,
     "metadata": {},
     "output_type": "execute_result"
    }
   ],
   "source": [
    "df.loc[df['loan_status'] == 'Charged Off', 'emp_length'].value_counts()/df['emp_length'].value_counts()"
   ]
  },
  {
   "cell_type": "code",
   "execution_count": 33,
   "metadata": {
    "collapsed": false
   },
   "outputs": [],
   "source": [
    "df.loc[df['emp_length'] != 'Not Reported', 'emp_length'] = 'Reported'"
   ]
  },
  {
   "cell_type": "code",
   "execution_count": 34,
   "metadata": {
    "collapsed": false
   },
   "outputs": [
    {
     "data": {
      "text/plain": [
       "Reported        0.177977\n",
       "Not Reported    0.252667\n",
       "Name: emp_length, dtype: float64"
      ]
     },
     "execution_count": 34,
     "metadata": {},
     "output_type": "execute_result"
    }
   ],
   "source": [
    "df.loc[df['loan_status'] == 'Charged Off', 'emp_length'].value_counts()/df['emp_length'].value_counts()"
   ]
  },
  {
   "cell_type": "markdown",
   "metadata": {
    "collapsed": true
   },
   "source": [
    "## Home Ownership"
   ]
  },
  {
   "cell_type": "code",
   "execution_count": 35,
   "metadata": {
    "collapsed": false
   },
   "outputs": [
    {
     "data": {
      "text/plain": [
       "MORTGAGE    0.165697\n",
       "NONE        0.162791\n",
       "OTHER       0.191489\n",
       "OWN         0.188211\n",
       "RENT        0.195880\n",
       "Name: home_ownership, dtype: float64"
      ]
     },
     "execution_count": 35,
     "metadata": {},
     "output_type": "execute_result"
    }
   ],
   "source": [
    "df.loc[df['loan_status'] == 'Charged Off', 'home_ownership'].value_counts()/df['home_ownership'].value_counts()"
   ]
  },
  {
   "cell_type": "markdown",
   "metadata": {},
   "source": [
    "## Annual Income"
   ]
  },
  {
   "cell_type": "code",
   "execution_count": 36,
   "metadata": {
    "collapsed": false
   },
   "outputs": [
    {
     "data": {
      "text/plain": [
       "<matplotlib.axes._subplots.AxesSubplot at 0x10bb0fa20>"
      ]
     },
     "execution_count": 36,
     "metadata": {},
     "output_type": "execute_result"
    },
    {
     "data": {
      "image/png": "[encoded data removed]",
      "text/plain": [
       "<matplotlib.figure.Figure at 0x10bb0d780>"
      ]
     },
     "metadata": {},
     "output_type": "display_data"
    }
   ],
   "source": [
    "# Divide data into quantiles\n",
    "labels = {\n",
    "    'title': 'Charged Off Rate by Annual Income',\n",
    "    'xlabel': 'Annual Income Bucket',\n",
    "    'ylabel': 'Charged Off Rate'\n",
    "}\n",
    "charge_off_plot_qcut(df, 'annual_inc', q = 5, labels = labels, legend_loc = 1)"
   ]
  },
  {
   "cell_type": "markdown",
   "metadata": {},
   "source": [
    "### Income Verificaiton Status"
   ]
  },
  {
   "cell_type": "code",
   "execution_count": 37,
   "metadata": {
    "collapsed": false
   },
   "outputs": [
    {
     "data": {
      "text/plain": [
       "Verified           0.212587\n",
       "Not Verified       0.144980\n",
       "Source Verified    0.180683\n",
       "Name: verification_status, dtype: float64"
      ]
     },
     "execution_count": 37,
     "metadata": {},
     "output_type": "execute_result"
    }
   ],
   "source": [
    "(df.loc[df['loan_status'] == 'Charged Off', 'verification_status']\n",
    "    .value_counts()/df['verification_status'].value_counts())"
   ]
  },
  {
   "cell_type": "markdown",
   "metadata": {},
   "source": [
    "## Month of Loan"
   ]
  },
  {
   "cell_type": "code",
   "execution_count": 38,
   "metadata": {
    "collapsed": false
   },
   "outputs": [],
   "source": [
    "df['issued_M'], df[\"issued_Y\"] = zip(*df['issue_d'].str.split('-').tolist())"
   ]
  },
  {
   "cell_type": "code",
   "execution_count": 39,
   "metadata": {
    "collapsed": false
   },
   "outputs": [
    {
     "data": {
      "text/plain": [
       "<matplotlib.legend.Legend at 0x10d310780>"
      ]
     },
     "execution_count": 39,
     "metadata": {},
     "output_type": "execute_result"
    },
    {
     "data": {
      "image/png": "[encoded data removed]",
      "text/plain": [
       "<matplotlib.figure.Figure at 0x10d310550>"
      ]
     },
     "metadata": {},
     "output_type": "display_data"
    }
   ],
   "source": [
    "# Plot\n",
    "(df.loc[df['loan_status'] == 'Charged Off', 'issued_Y']\n",
    "    .value_counts()/df['issued_Y'].value_counts()).plot(kind = 'bar', label = '')\n",
    "\n",
    "# Plot Settings\n",
    "mean_charge_off = df.loc[df['loan_status'] == 'Charged Off', :].shape[0]/df.shape[0]\n",
    "plt.title('Average Charged-off Rate by Year Issued')\n",
    "plt.xlabel('Year Loan was Issued')\n",
    "plt.ylabel('Charged Off Rate')\n",
    "plt.axhline(mean_charge_off, color = 'red', linestyle = 'dashed', alpha = 0.5, label = 'Mean')\n",
    "plt.legend()"
   ]
  },
  {
   "cell_type": "markdown",
   "metadata": {},
   "source": [
    "No indication of difference in charge-off rates across months"
   ]
  },
  {
   "cell_type": "markdown",
   "metadata": {},
   "source": [
    "## Payment Plan"
   ]
  },
  {
   "cell_type": "code",
   "execution_count": 40,
   "metadata": {
    "collapsed": false
   },
   "outputs": [
    {
     "data": {
      "text/plain": [
       "n    0.18061\n",
       "y        NaN\n",
       "Name: pymnt_plan, dtype: float64"
      ]
     },
     "execution_count": 40,
     "metadata": {},
     "output_type": "execute_result"
    }
   ],
   "source": [
    "df.loc[df['loan_status'] == 'Charged Off', 'pymnt_plan'].value_counts()/df['pymnt_plan'].value_counts()"
   ]
  },
  {
   "cell_type": "markdown",
   "metadata": {},
   "source": [
    "## Description and Purpose"
   ]
  },
  {
   "cell_type": "code",
   "execution_count": 41,
   "metadata": {
    "collapsed": true
   },
   "outputs": [],
   "source": [
    "## Do something here for Desc"
   ]
  },
  {
   "cell_type": "markdown",
   "metadata": {},
   "source": [
    "### Purpose"
   ]
  },
  {
   "cell_type": "code",
   "execution_count": 42,
   "metadata": {
    "collapsed": false
   },
   "outputs": [
    {
     "data": {
      "text/plain": [
       "<matplotlib.legend.Legend at 0x10d338630>"
      ]
     },
     "execution_count": 42,
     "metadata": {},
     "output_type": "execute_result"
    },
    {
     "data": {
      "image/png": "[encoded data removed]",
      "text/plain": [
       "<matplotlib.figure.Figure at 0x10d338828>"
      ]
     },
     "metadata": {},
     "output_type": "display_data"
    }
   ],
   "source": [
    "(df.loc[df['loan_status'] == 'Charged Off', 'purpose']\n",
    " .value_counts()/df['purpose'].value_counts()).sort_values().plot(kind = 'barh', label = '')\n",
    "plt.title('Average Charged-off Rate by Loan Purpose')\n",
    "plt.xlabel('Charge Off Rate')\n",
    "plt.ylabel('Purpose')\n",
    "plt.axvline(mean_charge_off, color = 'red', linestyle = 'dashed', alpha = 0.5, label = 'Mean')\n",
    "plt.legend(loc = 4)"
   ]
  },
  {
   "cell_type": "code",
   "execution_count": 43,
   "metadata": {
    "collapsed": false
   },
   "outputs": [
    {
     "data": {
      "text/html": [
       "<div>\n",
       "<table border=\"1\" class=\"dataframe\">\n",
       "  <thead>\n",
       "    <tr style=\"text-align: right;\">\n",
       "      <th>int_rate_cut</th>\n",
       "      <th>(0, 0.075]</th>\n",
       "      <th>(0.075, 0.15]</th>\n",
       "      <th>(0.15, 0.225]</th>\n",
       "      <th>(0.225, 0.3]</th>\n",
       "    </tr>\n",
       "    <tr>\n",
       "      <th>purpose</th>\n",
       "      <th></th>\n",
       "      <th></th>\n",
       "      <th></th>\n",
       "      <th></th>\n",
       "    </tr>\n",
       "  </thead>\n",
       "  <tbody>\n",
       "    <tr>\n",
       "      <th>car</th>\n",
       "      <td>0.039182</td>\n",
       "      <td>0.107872</td>\n",
       "      <td>0.240777</td>\n",
       "      <td>0.625000</td>\n",
       "    </tr>\n",
       "    <tr>\n",
       "      <th>credit_card</th>\n",
       "      <td>0.042239</td>\n",
       "      <td>0.117867</td>\n",
       "      <td>0.245277</td>\n",
       "      <td>0.375472</td>\n",
       "    </tr>\n",
       "    <tr>\n",
       "      <th>debt_consolidation</th>\n",
       "      <td>0.043803</td>\n",
       "      <td>0.133841</td>\n",
       "      <td>0.277545</td>\n",
       "      <td>0.432479</td>\n",
       "    </tr>\n",
       "    <tr>\n",
       "      <th>educational</th>\n",
       "      <td>0.000000</td>\n",
       "      <td>0.155709</td>\n",
       "      <td>0.379310</td>\n",
       "      <td>NaN</td>\n",
       "    </tr>\n",
       "    <tr>\n",
       "      <th>home_improvement</th>\n",
       "      <td>0.029508</td>\n",
       "      <td>0.127886</td>\n",
       "      <td>0.253682</td>\n",
       "      <td>0.310811</td>\n",
       "    </tr>\n",
       "    <tr>\n",
       "      <th>house</th>\n",
       "      <td>0.039683</td>\n",
       "      <td>0.129485</td>\n",
       "      <td>0.281690</td>\n",
       "      <td>0.382979</td>\n",
       "    </tr>\n",
       "    <tr>\n",
       "      <th>major_purchase</th>\n",
       "      <td>0.034483</td>\n",
       "      <td>0.108784</td>\n",
       "      <td>0.252261</td>\n",
       "      <td>0.549020</td>\n",
       "    </tr>\n",
       "    <tr>\n",
       "      <th>medical</th>\n",
       "      <td>0.041451</td>\n",
       "      <td>0.159812</td>\n",
       "      <td>0.249258</td>\n",
       "      <td>0.355932</td>\n",
       "    </tr>\n",
       "    <tr>\n",
       "      <th>moving</th>\n",
       "      <td>0.083969</td>\n",
       "      <td>0.153263</td>\n",
       "      <td>0.232510</td>\n",
       "      <td>0.482143</td>\n",
       "    </tr>\n",
       "    <tr>\n",
       "      <th>other</th>\n",
       "      <td>0.058594</td>\n",
       "      <td>0.156364</td>\n",
       "      <td>0.281233</td>\n",
       "      <td>0.375000</td>\n",
       "    </tr>\n",
       "    <tr>\n",
       "      <th>renewable_energy</th>\n",
       "      <td>0.178571</td>\n",
       "      <td>0.216981</td>\n",
       "      <td>0.152542</td>\n",
       "      <td>0.555556</td>\n",
       "    </tr>\n",
       "    <tr>\n",
       "      <th>small_business</th>\n",
       "      <td>0.129568</td>\n",
       "      <td>0.234844</td>\n",
       "      <td>0.355967</td>\n",
       "      <td>0.479263</td>\n",
       "    </tr>\n",
       "    <tr>\n",
       "      <th>vacation</th>\n",
       "      <td>0.086957</td>\n",
       "      <td>0.161224</td>\n",
       "      <td>0.214660</td>\n",
       "      <td>0.388889</td>\n",
       "    </tr>\n",
       "    <tr>\n",
       "      <th>wedding</th>\n",
       "      <td>0.027027</td>\n",
       "      <td>0.104921</td>\n",
       "      <td>0.204334</td>\n",
       "      <td>0.306122</td>\n",
       "    </tr>\n",
       "  </tbody>\n",
       "</table>\n",
       "</div>"
      ],
      "text/plain": [
       "int_rate_cut        (0, 0.075]  (0.075, 0.15]  (0.15, 0.225]  (0.225, 0.3]\n",
       "purpose                                                                   \n",
       "car                   0.039182       0.107872       0.240777      0.625000\n",
       "credit_card           0.042239       0.117867       0.245277      0.375472\n",
       "debt_consolidation    0.043803       0.133841       0.277545      0.432479\n",
       "educational           0.000000       0.155709       0.379310           NaN\n",
       "home_improvement      0.029508       0.127886       0.253682      0.310811\n",
       "house                 0.039683       0.129485       0.281690      0.382979\n",
       "major_purchase        0.034483       0.108784       0.252261      0.549020\n",
       "medical               0.041451       0.159812       0.249258      0.355932\n",
       "moving                0.083969       0.153263       0.232510      0.482143\n",
       "other                 0.058594       0.156364       0.281233      0.375000\n",
       "renewable_energy      0.178571       0.216981       0.152542      0.555556\n",
       "small_business        0.129568       0.234844       0.355967      0.479263\n",
       "vacation              0.086957       0.161224       0.214660      0.388889\n",
       "wedding               0.027027       0.104921       0.204334      0.306122"
      ]
     },
     "execution_count": 43,
     "metadata": {},
     "output_type": "execute_result"
    }
   ],
   "source": [
    "(pd.crosstab(df.loc[df['loan_status'] == 'Charged Off', 'purpose'],\n",
    "            df.loc[df['loan_status'] == 'Charged Off', 'int_rate_cut'])/\n",
    " pd.crosstab(df['purpose'],df['int_rate_cut']))"
   ]
  },
  {
   "cell_type": "code",
   "execution_count": 321,
   "metadata": {
    "collapsed": false
   },
   "outputs": [
    {
     "data": {
      "text/plain": [
       "0.12214009151707145"
      ]
     },
     "execution_count": 321,
     "metadata": {},
     "output_type": "execute_result"
    }
   ],
   "source": [
    "df.loc[(df['loan_status'] == 'Charged Off')\n",
    "       &(df['purpose'] == 'car'), :].shape[0]/df.loc[df['purpose'] == 'car'].shape[0]"
   ]
  },
  {
   "cell_type": "markdown",
   "metadata": {},
   "source": [
    "## Demographics"
   ]
  },
  {
   "cell_type": "markdown",
   "metadata": {},
   "source": [
    "### Zip Code"
   ]
  },
  {
   "cell_type": "code",
   "execution_count": 44,
   "metadata": {
    "collapsed": false
   },
   "outputs": [
    {
     "data": {
      "text/plain": [
       "<matplotlib.legend.Legend at 0x10d3baf98>"
      ]
     },
     "execution_count": 44,
     "metadata": {},
     "output_type": "execute_result"
    },
    {
     "data": {
      "image/png": "[encoded data removed]",
      "text/plain": [
       "<matplotlib.figure.Figure at 0x10d36f860>"
      ]
     },
     "metadata": {},
     "output_type": "display_data"
    }
   ],
   "source": [
    "(df.loc[df['loan_status'] == 'Charged Off', 'zip_code'].value_counts()/df['zip_code'].value_counts()).hist(bins = 20)\n",
    "plt.axvline(mean_charge_off, color = 'red', linestyle = 'dashed', label = 'Mean')\n",
    "plt.title('Charge-off Distribution by Zip Code')\n",
    "plt.legend()"
   ]
  },
  {
   "cell_type": "code",
   "execution_count": 45,
   "metadata": {
    "collapsed": false
   },
   "outputs": [
    {
     "data": {
      "text/plain": [
       "<matplotlib.text.Text at 0x10d3d9c50>"
      ]
     },
     "execution_count": 45,
     "metadata": {},
     "output_type": "execute_result"
    },
    {
     "data": {
      "image/png": "[encoded data removed]",
      "text/plain": [
       "<matplotlib.figure.Figure at 0x10d30f860>"
      ]
     },
     "metadata": {},
     "output_type": "display_data"
    }
   ],
   "source": [
    "df['zip_code'].value_counts().hist(bins = 20)\n",
    "plt.title('Zip Code Count Distribution')"
   ]
  },
  {
   "cell_type": "markdown",
   "metadata": {},
   "source": [
    "### State"
   ]
  },
  {
   "cell_type": "code",
   "execution_count": 46,
   "metadata": {
    "collapsed": false
   },
   "outputs": [
    {
     "data": {
      "text/plain": [
       "<matplotlib.axes._subplots.AxesSubplot at 0x10d403a90>"
      ]
     },
     "execution_count": 46,
     "metadata": {},
     "output_type": "execute_result"
    },
    {
     "data": {
      "image/png": "[encoded data removed]",
      "text/plain": [
       "<matplotlib.figure.Figure at 0x10d3e80b8>"
      ]
     },
     "metadata": {},
     "output_type": "display_data"
    }
   ],
   "source": [
    "((df.loc[df['loan_status'] == 'Charged Off', 'addr_state']\n",
    " .value_counts()/df['addr_state'].value_counts()).hist(bins = 20))"
   ]
  },
  {
   "cell_type": "markdown",
   "metadata": {},
   "source": [
    "## Debt-to-Income Ratio"
   ]
  },
  {
   "cell_type": "code",
   "execution_count": 47,
   "metadata": {
    "collapsed": false
   },
   "outputs": [
    {
     "data": {
      "text/plain": [
       "<matplotlib.axes._subplots.AxesSubplot at 0x10d409828>"
      ]
     },
     "execution_count": 47,
     "metadata": {},
     "output_type": "execute_result"
    },
    {
     "data": {
      "image/png": "[encoded data removed]",
      "text/plain": [
       "<matplotlib.figure.Figure at 0x10d424b70>"
      ]
     },
     "metadata": {},
     "output_type": "display_data"
    }
   ],
   "source": [
    "labels = {\n",
    "    'title': 'Charged Off Rate by DTI',\n",
    "    'xlabel': 'DTI Bucket',\n",
    "    'ylabel': 'Charged Off Rate'\n",
    "}\n",
    "charge_off_plot_qcut(df, 'dti', q = 5, labels = labels, legend_loc = 2)"
   ]
  },
  {
   "cell_type": "markdown",
   "metadata": {},
   "source": [
    "## Delinq 2 years"
   ]
  },
  {
   "cell_type": "code",
   "execution_count": 48,
   "metadata": {
    "collapsed": false
   },
   "outputs": [
    {
     "data": {
      "text/plain": [
       "Fully Paid     0.809039\n",
       "Charged Off    0.190961\n",
       "Name: loan_status, dtype: float64"
      ]
     },
     "execution_count": 48,
     "metadata": {},
     "output_type": "execute_result"
    }
   ],
   "source": [
    "(df.loc[(df['delinq_2yrs'] > 0), 'loan_status']\n",
    "    .value_counts()/df.loc[df['delinq_2yrs'] >0].shape[0])"
   ]
  },
  {
   "cell_type": "markdown",
   "metadata": {},
   "source": [
    "## Earliest Credit Line"
   ]
  },
  {
   "cell_type": "code",
   "execution_count": 49,
   "metadata": {
    "collapsed": false
   },
   "outputs": [],
   "source": [
    "df['earliest_cr_line_M'], df[\"earliest_cr_line_Y\"] = zip(*df['earliest_cr_line'].str.split('-').tolist())"
   ]
  },
  {
   "cell_type": "code",
   "execution_count": 50,
   "metadata": {
    "collapsed": false
   },
   "outputs": [
    {
     "data": {
      "text/plain": [
       "<matplotlib.legend.Legend at 0x110302c50>"
      ]
     },
     "execution_count": 50,
     "metadata": {},
     "output_type": "execute_result"
    },
    {
     "data": {
      "image/png": "[encoded data removed]",
      "text/plain": [
       "<matplotlib.figure.Figure at 0x110302dd8>"
      ]
     },
     "metadata": {},
     "output_type": "display_data"
    }
   ],
   "source": [
    "(df.loc[df['loan_status'] == 'Charged Off', 'earliest_cr_line_Y']\n",
    "    .value_counts()/df['earliest_cr_line_Y'].value_counts()).plot(label = '')\n",
    "plt.title('Average Charged-Off Rate by Year of First Line of Credit')\n",
    "plt.axhline(mean_charge_off, color = 'red', label = 'Mean', linestyle = 'dashed', alpha = 0.5)\n",
    "plt.legend()"
   ]
  },
  {
   "cell_type": "markdown",
   "metadata": {},
   "source": [
    "## Inquiries in Last 6 months"
   ]
  },
  {
   "cell_type": "code",
   "execution_count": 51,
   "metadata": {
    "collapsed": false
   },
   "outputs": [
    {
     "data": {
      "text/plain": [
       "<matplotlib.legend.Legend at 0x11035e748>"
      ]
     },
     "execution_count": 51,
     "metadata": {},
     "output_type": "execute_result"
    },
    {
     "data": {
      "image/png": "[encoded data removed]",
      "text/plain": [
       "<matplotlib.figure.Figure at 0x11031a588>"
      ]
     },
     "metadata": {},
     "output_type": "display_data"
    }
   ],
   "source": [
    "(df.loc[df['loan_status'] == 'Charged Off', 'inq_last_6mths']\n",
    "     .value_counts()/df['inq_last_6mths'].value_counts()).plot(label = '')\n",
    "plt.axhline(mean_charge_off, color = 'red', label = 'Mean', linestyle = 'dashed', alpha = 0.5)\n",
    "plt.title('Average Charged-off rate by Inquiries in Last 6 months')\n",
    "plt.legend()"
   ]
  },
  {
   "cell_type": "markdown",
   "metadata": {},
   "source": [
    "## Months Since Last Delinq"
   ]
  },
  {
   "cell_type": "code",
   "execution_count": 52,
   "metadata": {
    "collapsed": false
   },
   "outputs": [
    {
     "data": {
      "text/plain": [
       "<matplotlib.legend.Legend at 0x110388dd8>"
      ]
     },
     "execution_count": 52,
     "metadata": {},
     "output_type": "execute_result"
    },
    {
     "data": {
      "image/png": "[encoded data removed]",
      "text/plain": [
       "<matplotlib.figure.Figure at 0x11035ed30>"
      ]
     },
     "metadata": {},
     "output_type": "display_data"
    }
   ],
   "source": [
    "(df.loc[df['loan_status'] == 'Charged Off', 'mths_since_last_delinq']\n",
    "     .value_counts()/df['mths_since_last_delinq'].value_counts()).plot(label = '')\n",
    "plt.axhline(mean_charge_off, color = 'red', label = 'Mean', linestyle = 'dashed', alpha = 0.5)\n",
    "plt.title('Average Charged-off rate by Months Since Last Delinquency')\n",
    "plt.legend()"
   ]
  },
  {
   "cell_type": "markdown",
   "metadata": {},
   "source": [
    "## Months Since Last Record"
   ]
  },
  {
   "cell_type": "code",
   "execution_count": 53,
   "metadata": {
    "collapsed": false
   },
   "outputs": [
    {
     "data": {
      "text/plain": [
       "<matplotlib.legend.Legend at 0x1103b8940>"
      ]
     },
     "execution_count": 53,
     "metadata": {},
     "output_type": "execute_result"
    },
    {
     "data": {
      "image/png": "[encoded data removed]",
      "text/plain": [
       "<matplotlib.figure.Figure at 0x11038f9b0>"
      ]
     },
     "metadata": {},
     "output_type": "display_data"
    }
   ],
   "source": [
    "(df.loc[df['loan_status'] == 'Charged Off', 'mths_since_last_record']\n",
    "     .value_counts()/df['mths_since_last_record'].value_counts()).plot(label = '')\n",
    "plt.axhline(mean_charge_off, color = 'red', label = 'Mean', linestyle = 'dashed', alpha = 0.5)\n",
    "plt.title('Average Charged-off rate by Months Since Last Record')\n",
    "plt.legend()"
   ]
  },
  {
   "cell_type": "code",
   "execution_count": 54,
   "metadata": {
    "collapsed": false
   },
   "outputs": [
    {
     "data": {
      "text/plain": [
       "Fully Paid     10103\n",
       "Charged Off     2516\n",
       "Name: loan_status, dtype: int64"
      ]
     },
     "execution_count": 54,
     "metadata": {},
     "output_type": "execute_result"
    }
   ],
   "source": [
    "df.loc[df['mths_since_last_record'] > 0, 'loan_status'].value_counts()"
   ]
  },
  {
   "cell_type": "markdown",
   "metadata": {},
   "source": [
    "## Number of Open Accounts"
   ]
  },
  {
   "cell_type": "code",
   "execution_count": 55,
   "metadata": {
    "collapsed": false
   },
   "outputs": [
    {
     "data": {
      "text/plain": [
       "<matplotlib.axes._subplots.AxesSubplot at 0x1103a2400>"
      ]
     },
     "execution_count": 55,
     "metadata": {},
     "output_type": "execute_result"
    },
    {
     "data": {
      "image/png": "[encoded data removed]",
      "text/plain": [
       "<matplotlib.figure.Figure at 0x1103c2f60>"
      ]
     },
     "metadata": {},
     "output_type": "display_data"
    }
   ],
   "source": [
    "# Divide data into quantiles\n",
    "labels = {\n",
    "    'title': 'Charged Off Rate by Open Accounts',\n",
    "    'xlabel': 'Open Accounts Bucket',\n",
    "    'ylabel': 'Charged Off Rate'\n",
    "}\n",
    "charge_off_plot_qcut(df, 'open_acc', q = 5, labels = labels, legend_loc = 1)"
   ]
  },
  {
   "cell_type": "markdown",
   "metadata": {},
   "source": [
    "## Public Records"
   ]
  },
  {
   "cell_type": "code",
   "execution_count": 56,
   "metadata": {
    "collapsed": false
   },
   "outputs": [
    {
     "data": {
      "text/plain": [
       "<matplotlib.axes._subplots.AxesSubplot at 0x1103d0780>"
      ]
     },
     "execution_count": 56,
     "metadata": {},
     "output_type": "execute_result"
    },
    {
     "data": {
      "image/png": "[encoded data removed]",
      "text/plain": [
       "<matplotlib.figure.Figure at 0x1103d38d0>"
      ]
     },
     "metadata": {},
     "output_type": "display_data"
    }
   ],
   "source": [
    "# Divide data into quantiles\n",
    "seq = np.linspace(0,10,5)\n",
    "# Divide data into quantiles\n",
    "labels = {\n",
    "    'title': 'Charged Off Rate by Public Records',\n",
    "    'xlabel': 'Public Records Bucket',\n",
    "    'ylabel': 'Charged Off Rate'\n",
    "}\n",
    "charge_off_plot_cut(df, 'pub_rec', bins = seq, labels = labels, legend_loc = 1)"
   ]
  },
  {
   "cell_type": "markdown",
   "metadata": {},
   "source": [
    "## Revolving Balance and Utilization"
   ]
  },
  {
   "cell_type": "code",
   "execution_count": 57,
   "metadata": {
    "collapsed": false
   },
   "outputs": [
    {
     "data": {
      "text/plain": [
       "Fully Paid     0.819246\n",
       "Charged Off    0.180754\n",
       "Name: loan_status, dtype: float64"
      ]
     },
     "execution_count": 57,
     "metadata": {},
     "output_type": "execute_result"
    }
   ],
   "source": [
    "(df.loc[(df['revol_bal'] > 0), 'loan_status']\n",
    "    .value_counts()/df.loc[df['revol_bal'] >0].shape[0])"
   ]
  },
  {
   "cell_type": "code",
   "execution_count": 58,
   "metadata": {
    "collapsed": false
   },
   "outputs": [],
   "source": [
    "df['revol_util'] = pd.to_numeric(df['revol_util'].str.replace('%', ''), errors = 'coerce')/100"
   ]
  },
  {
   "cell_type": "code",
   "execution_count": 59,
   "metadata": {
    "collapsed": false
   },
   "outputs": [
    {
     "data": {
      "text/plain": [
       "<matplotlib.axes._subplots.AxesSubplot at 0x111ae34a8>"
      ]
     },
     "execution_count": 59,
     "metadata": {},
     "output_type": "execute_result"
    },
    {
     "data": {
      "image/png": "[encoded data removed]",
      "text/plain": [
       "<matplotlib.figure.Figure at 0x111ae3940>"
      ]
     },
     "metadata": {},
     "output_type": "display_data"
    }
   ],
   "source": [
    "# Divide data into quantiles\n",
    "labels = {\n",
    "    'title': 'Charged Off Rate by Revolving Utilization',\n",
    "    'xlabel': 'Revolving Utilization Bucket',\n",
    "    'ylabel': 'Charged Off Rate'\n",
    "}\n",
    "charge_off_plot_qcut(df, 'revol_util', q = 4, labels = labels, legend_loc = 1)"
   ]
  },
  {
   "cell_type": "markdown",
   "metadata": {},
   "source": [
    "## Total Accounts"
   ]
  },
  {
   "cell_type": "code",
   "execution_count": 60,
   "metadata": {
    "collapsed": false
   },
   "outputs": [
    {
     "data": {
      "text/plain": [
       "<matplotlib.axes._subplots.AxesSubplot at 0x111ad86a0>"
      ]
     },
     "execution_count": 60,
     "metadata": {},
     "output_type": "execute_result"
    },
    {
     "data": {
      "image/png": "[encoded data removed]",
      "text/plain": [
       "<matplotlib.figure.Figure at 0x111ac0f98>"
      ]
     },
     "metadata": {},
     "output_type": "display_data"
    }
   ],
   "source": [
    "labels = {\n",
    "    'title': 'Charged Off Rate by Total Accounts',\n",
    "    'xlabel': 'Total Accounts Bucket',\n",
    "    'ylabel': 'Charged Off Rate'\n",
    "}\n",
    "charge_off_plot_qcut(df, 'total_acc', q = 4, labels = labels, legend_loc = 1)"
   ]
  },
  {
   "cell_type": "markdown",
   "metadata": {},
   "source": [
    "## Initial List Status"
   ]
  },
  {
   "cell_type": "code",
   "execution_count": 61,
   "metadata": {
    "collapsed": false
   },
   "outputs": [
    {
     "data": {
      "text/plain": [
       "f    0.179617\n",
       "w    0.186476\n",
       "Name: initial_list_status, dtype: float64"
      ]
     },
     "execution_count": 61,
     "metadata": {},
     "output_type": "execute_result"
    }
   ],
   "source": [
    "(df.loc[df['loan_status'] == 'Charged Off', 'initial_list_status']\n",
    "    .value_counts()/df['initial_list_status'].value_counts())"
   ]
  },
  {
   "cell_type": "markdown",
   "metadata": {},
   "source": [
    "## Amount Outstanding"
   ]
  },
  {
   "cell_type": "markdown",
   "metadata": {},
   "source": [
    "All observations have value zero."
   ]
  },
  {
   "cell_type": "markdown",
   "metadata": {},
   "source": [
    "## Total Payments"
   ]
  },
  {
   "cell_type": "markdown",
   "metadata": {},
   "source": [
    "Not a good variable"
   ]
  },
  {
   "cell_type": "markdown",
   "metadata": {},
   "source": [
    "## Accounts Delinquent"
   ]
  },
  {
   "cell_type": "code",
   "execution_count": 62,
   "metadata": {
    "collapsed": false
   },
   "outputs": [
    {
     "data": {
      "text/plain": [
       "<matplotlib.legend.Legend at 0x111a6e5f8>"
      ]
     },
     "execution_count": 62,
     "metadata": {},
     "output_type": "execute_result"
    },
    {
     "data": {
      "image/png": "[encoded data removed]",
      "text/plain": [
       "<matplotlib.figure.Figure at 0x11041d630>"
      ]
     },
     "metadata": {},
     "output_type": "display_data"
    }
   ],
   "source": [
    "# Plot\n",
    "(df.loc[df['loan_status'] == 'Charged Off', 'acc_now_delinq']\n",
    "    .value_counts()/df['acc_now_delinq'].value_counts()).plot(kind = 'bar', label = '')\n",
    "\n",
    "# Plot Settings\n",
    "mean_charge_off = df.loc[df['loan_status'] == 'Charged Off', :].shape[0]/df.shape[0]\n",
    "plt.title('Average Charged-off Rate by # of Accounts Delinquent')\n",
    "plt.xlabel('No. of Accounts Delinquent')\n",
    "plt.ylabel('Charged Off Rate')\n",
    "plt.axhline(mean_charge_off, color = 'red', linestyle = 'dashed', alpha = 0.5, label = 'Mean')\n",
    "plt.legend()"
   ]
  },
  {
   "cell_type": "code",
   "execution_count": 63,
   "metadata": {
    "collapsed": false
   },
   "outputs": [
    {
     "data": {
      "text/plain": [
       "173729    Fully Paid\n",
       "Name: loan_status, dtype: object"
      ]
     },
     "execution_count": 63,
     "metadata": {},
     "output_type": "execute_result"
    }
   ],
   "source": [
    "df.loc[df['acc_now_delinq'] == 4.0, 'loan_status']"
   ]
  },
  {
   "cell_type": "markdown",
   "metadata": {},
   "source": [
    "# Modelling"
   ]
  },
  {
   "cell_type": "markdown",
   "metadata": {},
   "source": [
    "## Prepare Data"
   ]
  },
  {
   "cell_type": "code",
   "execution_count": 118,
   "metadata": {
    "collapsed": false
   },
   "outputs": [],
   "source": [
    "df['expected_value'] = df['total_pymnt'] - df['funded_amnt']\n",
    "expected_value = df.groupby(['loan_status', 'grade'], as_index = False)['loan_net_gain'].agg('mean')"
   ]
  },
  {
   "cell_type": "code",
   "execution_count": 119,
   "metadata": {
    "collapsed": true
   },
   "outputs": [],
   "source": [
    "df_bak = df.copy()"
   ]
  },
  {
   "cell_type": "code",
   "execution_count": 170,
   "metadata": {
    "collapsed": true
   },
   "outputs": [],
   "source": [
    "df = df_bak.copy()"
   ]
  },
  {
   "cell_type": "markdown",
   "metadata": {},
   "source": [
    "### Drop Variables not used"
   ]
  },
  {
   "cell_type": "code",
   "execution_count": 171,
   "metadata": {
    "collapsed": false
   },
   "outputs": [],
   "source": [
    "X = df.copy()\n",
    "ids = X['id']\n",
    "\n",
    "drop_cols = [\n",
    "    'out_prncp', 'out_prncp_inv',\n",
    "    'total_pymnt', 'total_pymnt_inv',\n",
    "    'total_rec_prncp', 'total_rec_int',\n",
    "    'total_rec_late_fee', 'recoveries',\n",
    "    'collection_recovery_fee', 'last_pymnt_d',\n",
    "    'last_pymnt_amnt', 'last_credit_pull_d',\n",
    "    'collections_12_mths_ex_med', 'mths_since_last_major_derog',\n",
    "    'policy_code', 'application_type',\n",
    "    'tot_coll_amt', 'tot_cur_bal',\n",
    "    'total_rev_hi_lim', 'url',\n",
    "    'title',  'issued_M',\n",
    "    'earliest_cr_line_M', 'pymnt_plan',\n",
    "    'issue_d', 'desc',\n",
    "    'member_id', 'loan_net_gain',\n",
    "    'emp_title', 'zip_code',\n",
    "    'addr_state', 'earliest_cr_line',\n",
    "    'mths_since_last_delinq', 'mths_since_last_record',\n",
    "    'id'\n",
    "]\n",
    "\n",
    "X.drop(drop_cols, axis = 1, inplace = True)"
   ]
  },
  {
   "cell_type": "markdown",
   "metadata": {},
   "source": [
    "### New Variables"
   ]
  },
  {
   "cell_type": "code",
   "execution_count": 172,
   "metadata": {
    "collapsed": false
   },
   "outputs": [],
   "source": [
    "# Loan Amount Squared\n",
    "X['loan_amnt_2'] = X['loan_amnt']**2\n",
    "\n",
    "# Inv Pct Squared\n",
    "X['inv_pct_2'] = X['inv_pct']**2\n",
    "\n",
    "# Inquiries in last 6 months\n",
    "X['inq_last_6mths_2'] = X['inq_last_6mths']**2"
   ]
  },
  {
   "cell_type": "code",
   "execution_count": 173,
   "metadata": {
    "collapsed": false
   },
   "outputs": [],
   "source": [
    "from sklearn.preprocessing import StandardScaler\n",
    "from sklearn.decomposition import PCA\n",
    "from sklearn.pipeline import Pipeline\n",
    "\n",
    "# Prepare Data\n",
    "y = X['loan_status'].values\n",
    "\n",
    "# Fix data\n",
    "X['revol_util'].fillna(X['revol_util'].mean(), inplace = True)\n",
    "X.drop('loan_status', axis = 1, inplace = True)\n",
    "\n",
    "# Get categorical values\n",
    "X_dummy = pd.get_dummies(X.loc[:, X.dtypes == 'object'])\n",
    "\n",
    "# New Indicator Variables\n",
    "X['inv_pct_term_36 months'] = X['inv_pct']*X_dummy['term_ 36 months']\n",
    "X['inv_pct_term_60 months'] = X['inv_pct']*X_dummy['term_ 60 months']\n",
    "X['inv_pct_grade_A'] = X['inv_pct']*X_dummy['grade_A']\n",
    "X['inv_pct_grade_B'] = X['inv_pct']*X_dummy['grade_B']\n",
    "X['inv_pct_grade_C'] = X['inv_pct']*X_dummy['grade_C']\n",
    "X['inv_pct_grade_D'] = X['inv_pct']*X_dummy['grade_D']\n",
    "X['inv_pct_grade_E'] = X['inv_pct']*X_dummy['grade_E']\n",
    "X['inv_pct_grade_F'] = X['inv_pct']*X_dummy['grade_F']\n",
    "X['inv_pct_grade_G'] = X['inv_pct']*X_dummy['grade_G']\n",
    "X['inv_pct_car'] = X['inv_pct']*X_dummy['purpose_car']\n",
    "X['int_rate_credit_card'] = X['int_rate']*X_dummy['purpose_credit_card']\n",
    "X['int_rate_debt_consolidation'] = X['int_rate']*X_dummy['purpose_debt_consolidation']\n",
    "X['int_rate_educational'] = X['int_rate']*X_dummy['purpose_educational']\n",
    "X['int_rate_home_improvement'] = X['int_rate']*X_dummy['purpose_home_improvement']\n",
    "X['int_rate_house'] = X['int_rate']*X_dummy['purpose_house']\n",
    "X['int_rate_major_purchase'] = X['int_rate']*X_dummy['purpose_major_purchase']\n",
    "X['int_rate_medical'] = X['int_rate']*X_dummy['purpose_medical']\n",
    "X['int_rate_moving'] = X['int_rate']*X_dummy['purpose_moving']\n",
    "X['int_rate_other'] = X['int_rate']*X_dummy['purpose_other']\n",
    "X['int_rate_renewable_energy'] = X['int_rate']*X_dummy['purpose_renewable_energy']\n",
    "X['int_rate_small_business'] = X['int_rate']*X_dummy['purpose_small_business']\n",
    "X['int_rate_vacation'] = X['int_rate']*X_dummy['purpose_vacation']\n",
    "X['int_rate_wedding'] = X['int_rate']*X_dummy['purpose_wedding']\n",
    "\n",
    "# Normalize numerical values normalized and obj values\n",
    "X_num = X.loc[:, X.dtypes == 'float64'].values\n",
    "X_num = StandardScaler().fit_transform(X_num)\n",
    "X_dummy['id'] = ids\n",
    "\n",
    "# Concatenate\n",
    "X = np.concatenate((X_num, X_dummy), axis = 1)\n",
    "\n",
    "# Apply PCA on X\n",
    "# pca = PCA()\n",
    "# pca.fit(X)"
   ]
  },
  {
   "cell_type": "code",
   "execution_count": 174,
   "metadata": {
    "collapsed": true
   },
   "outputs": [],
   "source": [
    "from sklearn.cross_validation import train_test_split\n",
    "X_train, X_test, y_train, y_test = train_test_split(X, y, test_size = 0.2, random_state = 2)\n",
    "X_train = X_train[:, :-1]\n",
    "X_test_id = X_test[:, -1]\n",
    "X_test = X_test[:, :-1]"
   ]
  },
  {
   "cell_type": "markdown",
   "metadata": {},
   "source": [
    "## Random Forest"
   ]
  },
  {
   "cell_type": "code",
   "execution_count": 175,
   "metadata": {
    "collapsed": false
   },
   "outputs": [
    {
     "data": {
      "text/plain": [
       "RandomForestClassifier(bootstrap=True, class_weight='balanced_subsample',\n",
       "            criterion='gini', max_depth=None, max_features='auto',\n",
       "            max_leaf_nodes=None, min_samples_leaf=1, min_samples_split=2,\n",
       "            min_weight_fraction_leaf=0.0, n_estimators=200, n_jobs=-1,\n",
       "            oob_score=True, random_state=2, verbose=0, warm_start=False)"
      ]
     },
     "execution_count": 175,
     "metadata": {},
     "output_type": "execute_result"
    }
   ],
   "source": [
    "from sklearn.ensemble import RandomForestClassifier\n",
    "rfc = RandomForestClassifier(n_estimators = 200, class_weight = 'balanced_subsample',\n",
    "                             random_state = 2, oob_score = True, n_jobs = -1)\n",
    "rfc.fit(X_train, y_train)"
   ]
  },
  {
   "cell_type": "code",
   "execution_count": 176,
   "metadata": {
    "collapsed": false
   },
   "outputs": [],
   "source": [
    "class_proba = pd.DataFrame(rfc.predict_proba(X_test), columns = ['p_charge_off', 'p_fully_paid'])"
   ]
  },
  {
   "cell_type": "code",
   "execution_count": 177,
   "metadata": {
    "collapsed": false
   },
   "outputs": [
    {
     "data": {
      "text/plain": [
       "0.75153826211443331"
      ]
     },
     "execution_count": 177,
     "metadata": {},
     "output_type": "execute_result"
    }
   ],
   "source": [
    "from sklearn import metrics\n",
    "metrics.f1_score(y_test, rfc.predict(X_test), pos_label = None, average = 'weighted')"
   ]
  },
  {
   "cell_type": "code",
   "execution_count": 178,
   "metadata": {
    "collapsed": false
   },
   "outputs": [
    {
     "data": {
      "text/plain": [
       "array([[  227,  5531],\n",
       "       [  195, 25976]])"
      ]
     },
     "execution_count": 178,
     "metadata": {},
     "output_type": "execute_result"
    }
   ],
   "source": [
    "from sklearn.metrics import confusion_matrix\n",
    "confusion_matrix(y_test, rfc.predict(X_test))"
   ]
  },
  {
   "cell_type": "markdown",
   "metadata": {},
   "source": [
    "## Gradient Boosting"
   ]
  },
  {
   "cell_type": "code",
   "execution_count": 263,
   "metadata": {
    "collapsed": false
   },
   "outputs": [
    {
     "data": {
      "text/plain": [
       "GradientBoostingClassifier(init=None, learning_rate=0.1, loss='deviance',\n",
       "              max_depth=3, max_features=None, max_leaf_nodes=None,\n",
       "              min_samples_leaf=1, min_samples_split=2,\n",
       "              min_weight_fraction_leaf=0.0, n_estimators=200,\n",
       "              presort='auto', random_state=None, subsample=1.0, verbose=0,\n",
       "              warm_start=False)"
      ]
     },
     "execution_count": 263,
     "metadata": {},
     "output_type": "execute_result"
    }
   ],
   "source": [
    "from sklearn.ensemble import GradientBoostingClassifier\n",
    "gbc = GradientBoostingClassifier(n_estimators = 200)\n",
    "gbc.fit(X_train, y_train)"
   ]
  },
  {
   "cell_type": "code",
   "execution_count": 306,
   "metadata": {
    "collapsed": false
   },
   "outputs": [],
   "source": [
    "class_proba = pd.DataFrame(gbc.predict_proba(X_test), columns = ['p_charge_off', 'p_fully_paid'])"
   ]
  },
  {
   "cell_type": "code",
   "execution_count": 265,
   "metadata": {
    "collapsed": false
   },
   "outputs": [
    {
     "data": {
      "text/plain": [
       "0.75473716079126918"
      ]
     },
     "execution_count": 265,
     "metadata": {},
     "output_type": "execute_result"
    }
   ],
   "source": [
    "metrics.f1_score(y_test, gbc.predict(X_test), pos_label = None, average = 'weighted')"
   ]
  },
  {
   "cell_type": "code",
   "execution_count": 266,
   "metadata": {
    "collapsed": false
   },
   "outputs": [
    {
     "data": {
      "text/plain": [
       "array([[  283,  5475],\n",
       "       [  230, 25941]])"
      ]
     },
     "execution_count": 266,
     "metadata": {},
     "output_type": "execute_result"
    }
   ],
   "source": [
    "confusion_matrix(y_test, gbc.predict(X_test))"
   ]
  },
  {
   "cell_type": "markdown",
   "metadata": {},
   "source": [
    "## Logistic Regression"
   ]
  },
  {
   "cell_type": "code",
   "execution_count": 274,
   "metadata": {
    "collapsed": false
   },
   "outputs": [
    {
     "data": {
      "text/plain": [
       "LogisticRegression(C=1.0, class_weight='balanced', dual=False,\n",
       "          fit_intercept=True, intercept_scaling=1, max_iter=100,\n",
       "          multi_class='ovr', n_jobs=1, penalty='l1', random_state=None,\n",
       "          solver='liblinear', tol=0.0001, verbose=0, warm_start=False)"
      ]
     },
     "execution_count": 274,
     "metadata": {},
     "output_type": "execute_result"
    }
   ],
   "source": [
    "from sklearn.linear_model import LogisticRegression\n",
    "lr = LogisticRegression(penalty = 'l1', class_weight = 'balanced')\n",
    "lr.fit(X_train, y_train)"
   ]
  },
  {
   "cell_type": "code",
   "execution_count": 293,
   "metadata": {
    "collapsed": false
   },
   "outputs": [],
   "source": [
    "class_proba = pd.DataFrame(lr.predict_proba(X_test), columns = ['p_charge_off', 'p_fully_paid'])"
   ]
  },
  {
   "cell_type": "code",
   "execution_count": 281,
   "metadata": {
    "collapsed": false
   },
   "outputs": [
    {
     "data": {
      "text/plain": [
       "0.69022303867231705"
      ]
     },
     "execution_count": 281,
     "metadata": {},
     "output_type": "execute_result"
    }
   ],
   "source": [
    "metrics.f1_score(y_test, lr.predict(X_test), pos_label = None, average = 'weighted')"
   ]
  },
  {
   "cell_type": "code",
   "execution_count": 282,
   "metadata": {
    "collapsed": false
   },
   "outputs": [
    {
     "data": {
      "text/plain": [
       "array([[ 3755,  2003],\n",
       "       [ 9140, 17031]])"
      ]
     },
     "execution_count": 282,
     "metadata": {},
     "output_type": "execute_result"
    }
   ],
   "source": [
    "confusion_matrix(y_test, lr.predict(X_test))"
   ]
  },
  {
   "cell_type": "markdown",
   "metadata": {},
   "source": [
    "## Results"
   ]
  },
  {
   "cell_type": "code",
   "execution_count": 185,
   "metadata": {
    "collapsed": false
   },
   "outputs": [],
   "source": [
    "expected_value.columns = ['loan_status', 'grade', 'expected_value']"
   ]
  },
  {
   "cell_type": "code",
   "execution_count": 242,
   "metadata": {
    "collapsed": false
   },
   "outputs": [
    {
     "data": {
      "text/html": [
       "<div>\n",
       "<table border=\"1\" class=\"dataframe\">\n",
       "  <thead>\n",
       "    <tr style=\"text-align: right;\">\n",
       "      <th></th>\n",
       "      <th>ev_charge_off</th>\n",
       "      <th>ev_fully_paid</th>\n",
       "      <th>grade</th>\n",
       "    </tr>\n",
       "    <tr>\n",
       "      <th>grade</th>\n",
       "      <th></th>\n",
       "      <th></th>\n",
       "      <th></th>\n",
       "    </tr>\n",
       "  </thead>\n",
       "  <tbody>\n",
       "    <tr>\n",
       "      <th>A</th>\n",
       "      <td>-5038.606228</td>\n",
       "      <td>1111.199015</td>\n",
       "      <td>A</td>\n",
       "    </tr>\n",
       "    <tr>\n",
       "      <th>B</th>\n",
       "      <td>-5433.713176</td>\n",
       "      <td>1831.323922</td>\n",
       "      <td>B</td>\n",
       "    </tr>\n",
       "    <tr>\n",
       "      <th>C</th>\n",
       "      <td>-6219.544737</td>\n",
       "      <td>2525.133631</td>\n",
       "      <td>C</td>\n",
       "    </tr>\n",
       "    <tr>\n",
       "      <th>D</th>\n",
       "      <td>-6476.465297</td>\n",
       "      <td>3111.930414</td>\n",
       "      <td>D</td>\n",
       "    </tr>\n",
       "    <tr>\n",
       "      <th>E</th>\n",
       "      <td>-8518.431833</td>\n",
       "      <td>4947.876930</td>\n",
       "      <td>E</td>\n",
       "    </tr>\n",
       "    <tr>\n",
       "      <th>F</th>\n",
       "      <td>-9719.013612</td>\n",
       "      <td>6055.193394</td>\n",
       "      <td>F</td>\n",
       "    </tr>\n",
       "    <tr>\n",
       "      <th>G</th>\n",
       "      <td>-10667.896314</td>\n",
       "      <td>7436.526144</td>\n",
       "      <td>G</td>\n",
       "    </tr>\n",
       "  </tbody>\n",
       "</table>\n",
       "</div>"
      ],
      "text/plain": [
       "       ev_charge_off  ev_fully_paid grade\n",
       "grade                                    \n",
       "A       -5038.606228    1111.199015     A\n",
       "B       -5433.713176    1831.323922     B\n",
       "C       -6219.544737    2525.133631     C\n",
       "D       -6476.465297    3111.930414     D\n",
       "E       -8518.431833    4947.876930     E\n",
       "F       -9719.013612    6055.193394     F\n",
       "G      -10667.896314    7436.526144     G"
      ]
     },
     "execution_count": 242,
     "metadata": {},
     "output_type": "execute_result"
    }
   ],
   "source": [
    "ev = expected_value.pivot(index = 'grade', columns = 'loan_status', values = 'expected_value')\n",
    "ev['grade'] = ev.index\n",
    "ev.columns = ['ev_charge_off', 'ev_fully_paid', 'grade']"
   ]
  },
  {
   "cell_type": "code",
   "execution_count": 307,
   "metadata": {
    "collapsed": false
   },
   "outputs": [],
   "source": [
    "class_proba['id'] = X_test_id\n",
    "cols = ['id', 'grade', 'loan_status', 'loan_net_gain']\n",
    "results = df.loc[df['id'].isin(X_test_id), cols]"
   ]
  },
  {
   "cell_type": "code",
   "execution_count": 308,
   "metadata": {
    "collapsed": false
   },
   "outputs": [],
   "source": [
    "results = pd.merge(results, class_proba, on = 'id', how = 'left')\n",
    "results = pd.merge(results, ev, on = ['grade'], how = 'left')"
   ]
  },
  {
   "cell_type": "code",
   "execution_count": 309,
   "metadata": {
    "collapsed": false
   },
   "outputs": [],
   "source": [
    "results['ev'] = results['p_fully_paid']*results['ev_fully_paid'] + results['p_charge_off']*results['ev_charge_off']\n",
    "results['accept_loan'] = results['ev'].apply(lambda x: 1 if x >= 0 else 0)"
   ]
  },
  {
   "cell_type": "code",
   "execution_count": 310,
   "metadata": {
    "collapsed": true
   },
   "outputs": [],
   "source": [
    "results['binary_classification'] = gbc.predict(X_test)"
   ]
  },
  {
   "cell_type": "code",
   "execution_count": 312,
   "metadata": {
    "collapsed": false
   },
   "outputs": [
    {
     "data": {
      "text/plain": [
       "20435491.418087736"
      ]
     },
     "execution_count": 312,
     "metadata": {},
     "output_type": "execute_result"
    }
   ],
   "source": [
    "# Simple method return\n",
    "sum(results['loan_net_gain'])"
   ]
  },
  {
   "cell_type": "code",
   "execution_count": 313,
   "metadata": {
    "collapsed": false
   },
   "outputs": [
    {
     "data": {
      "text/plain": [
       "25062007.990720704"
      ]
     },
     "execution_count": 313,
     "metadata": {},
     "output_type": "execute_result"
    }
   ],
   "source": [
    "# Expected value approach return\n",
    "sum(results.loc[results['ev'] >= 0, 'loan_net_gain'])"
   ]
  },
  {
   "cell_type": "code",
   "execution_count": 314,
   "metadata": {
    "collapsed": false
   },
   "outputs": [
    {
     "data": {
      "text/plain": [
       "20260484.438131414"
      ]
     },
     "execution_count": 314,
     "metadata": {},
     "output_type": "execute_result"
    }
   ],
   "source": [
    "# Highest probable class approach\n",
    "sum(results.loc[results['binary_classification'] == 'Fully Paid', 'loan_net_gain'])"
   ]
  },
  {
   "cell_type": "code",
   "execution_count": 316,
   "metadata": {
    "collapsed": true
   },
   "outputs": [],
   "source": [
    "tp = results.loc[(results['loan_status'] == 'Charged Off')\n",
    "                &(results['accept_loan'] == 0)].shape[0]\n",
    "\n",
    "tn = results.loc[(results['loan_status'] == 'Fully Paid')\n",
    "                &(results['accept_loan'] == 1)].shape[0]\n",
    "\n",
    "fn = results.loc[(results['loan_status'] == 'Charged Off')\n",
    "                &(results['accept_loan'] == 1)].shape[0]\n",
    "\n",
    "fp = results.loc[(results['loan_status'] == 'Fully Paid')\n",
    "                &(results['accept_loan'] == 0)].shape[0]"
   ]
  },
  {
   "cell_type": "code",
   "execution_count": 317,
   "metadata": {
    "collapsed": false
   },
   "outputs": [
    {
     "data": {
      "text/plain": [
       "1643"
      ]
     },
     "execution_count": 317,
     "metadata": {},
     "output_type": "execute_result"
    }
   ],
   "source": [
    "tp"
   ]
  },
  {
   "cell_type": "code",
   "execution_count": 318,
   "metadata": {
    "collapsed": false
   },
   "outputs": [
    {
     "data": {
      "text/plain": [
       "23686"
      ]
     },
     "execution_count": 318,
     "metadata": {},
     "output_type": "execute_result"
    }
   ],
   "source": [
    "tn"
   ]
  },
  {
   "cell_type": "code",
   "execution_count": 319,
   "metadata": {
    "collapsed": false
   },
   "outputs": [
    {
     "data": {
      "text/plain": [
       "4115"
      ]
     },
     "execution_count": 319,
     "metadata": {},
     "output_type": "execute_result"
    }
   ],
   "source": [
    "fn"
   ]
  },
  {
   "cell_type": "code",
   "execution_count": 320,
   "metadata": {
    "collapsed": false
   },
   "outputs": [
    {
     "data": {
      "text/plain": [
       "2485"
      ]
     },
     "execution_count": 320,
     "metadata": {},
     "output_type": "execute_result"
    }
   ],
   "source": [
    "fp"
   ]
  }
 ],
 "metadata": {
  "kernelspec": {
   "display_name": "Python 3",
   "language": "python",
   "name": "python3"
  },
  "language_info": {
   "codemirror_mode": {
    "name": "ipython",
    "version": 3
   },
   "file_extension": ".py",
   "mimetype": "text/x-python",
   "name": "python",
   "nbconvert_exporter": "python",
   "pygments_lexer": "ipython3",
   "version": "3.5.1"
  }
 },
 "nbformat": 4,
 "nbformat_minor": 0
}
